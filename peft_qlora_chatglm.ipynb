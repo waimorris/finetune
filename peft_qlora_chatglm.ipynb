{
  "cells": [
    {
      "cell_type": "markdown",
      "id": "a1d913f3-3c42-428e-9cc0-8d679d51897a",
      "metadata": {
        "id": "a1d913f3-3c42-428e-9cc0-8d679d51897a"
      },
      "source": [
        "# PEFT 库 QLoRA 实战 - ChatGLM3-6B\n",
        "\n",
        "通常，模型被量化后不会进一步训练用于下游任务，因为由于权重和激活的较低精度，训练可能不稳定。\n",
        "\n",
        "但是由于PEFT方法只添加额外的可训练参数，这使得我们可以使用PEFT适配器（Adapter）来训练一个量化模型！将量化与PEFT结合起来可以成为在单个GPU上训练大模型的微调策略。\n",
        "\n",
        "例如，`QLoRA` 是一种将模型量化为4位然后使用LoRA进行训练的方法，使得在单个16GB GPU（本教程以 NVIDIA T4为例）上微调一个具有65B参数的大模型成为可能。\n",
        "\n",
        "THUDM Hugging Face 主页：https://huggingface.co/THUDM\n",
        "\n",
        "## 教程说明\n",
        "\n",
        "本教程使用 QLoRA 论文中介绍的量化技术：`NF4 数据类型`、`双量化` 和 `混合精度计算`，在 `ChatGLM3-6b` 模型上实现了 QLoRA 微调。并展示了完整的 QLoRA 微调流程，具体如下：\n",
        "\n",
        "- 数据准备\n",
        "    - 下载数据集\n",
        "    - 设计 Tokenizer 函数处理样本（map、shuffle、flatten）\n",
        "    - 自定义批量数据处理类 DataCollatorForChatGLM\n",
        "- 训练模型\n",
        "    - 加载 ChatGLM3-6B 量化模型\n",
        "    - PEFT 量化模型预处理（prepare_model_for_kbit_training）\n",
        "    - QLoRA 适配器配置（TRANSFORMERS_MODELS_TO_LORA_TARGET_MODULES_MAPPING）\n",
        "    - 微调训练超参数配置（TrainingArguments）\n",
        "    - 开启训练（trainer.train)\n",
        "    - 保存QLoRA模型（trainer.model.save_pretrained)\n",
        "- [模型推理](peft_chatglm_inference.ipynb)\n",
        "    - 加载 ChatGLM3-6B 基础模型\n",
        "    - 加载 ChatGLM3-6B QLoRA 模型（PEFT Adapter）\n",
        "    - 微调前后对比"
      ]
    },
    {
      "cell_type": "code",
      "execution_count": null,
      "id": "7fa8105c-6dda-426b-9180-ab9abbc9ce9e",
      "metadata": {
        "id": "7fa8105c-6dda-426b-9180-ab9abbc9ce9e"
      },
      "outputs": [],
      "source": [
        "# 定义全局变量和参数\n",
        "model_name_or_path = 'THUDM/chatglm3-6b'  # 模型ID或本地路径\n",
        "train_data_path = 'HasturOfficial/adgen'    # 训练数据路径\n",
        "eval_data_path = None                     # 验证数据路径，如果没有则设置为None\n",
        "seed = 8                                 # 随机种子\n",
        "max_input_length = 512                    # 输入的最大长度\n",
        "max_output_length = 1536                  # 输出的最大长度\n",
        "lora_rank = 4                             # LoRA秩\n",
        "lora_alpha = 32                           # LoRA alpha值\n",
        "lora_dropout = 0.05                       # LoRA Dropout率\n",
        "resume_from_checkpoint = None             # 如果从checkpoint恢复训练，指定路径\n",
        "prompt_text = ''                          # 所有数据前的指令文本\n",
        "compute_dtype = 'fp32'                    # 计算数据类型（fp32, fp16, bf16）"
      ]
    },
    {
      "cell_type": "markdown",
      "id": "93eab798-4ec0-45f0-af87-a3aa880f0888",
      "metadata": {
        "id": "93eab798-4ec0-45f0-af87-a3aa880f0888"
      },
      "source": [
        "## 数据准备\n",
        "\n",
        "### 下载数据集\n",
        "\n",
        "从 Hugging Face 加载 adgen 数据集，并tokenize，shuffle"
      ]
    },
    {
      "cell_type": "code",
      "execution_count": null,
      "id": "f7517070-eae3-45e1-b6a2-f49f332650ac",
      "metadata": {
        "id": "f7517070-eae3-45e1-b6a2-f49f332650ac"
      },
      "outputs": [],
      "source": [
        "from datasets import load_dataset\n",
        "\n",
        "dataset = load_dataset(train_data_path)"
      ]
    },
    {
      "cell_type": "code",
      "execution_count": null,
      "id": "cbd03e18-05b7-47c3-bb32-520fb6f0bef3",
      "metadata": {
        "id": "cbd03e18-05b7-47c3-bb32-520fb6f0bef3",
        "outputId": "469b3cc5-8895-482e-9793-bfe37c16d416",
        "colab": {
          "base_uri": "https://localhost:8080/"
        }
      },
      "outputs": [
        {
          "output_type": "execute_result",
          "data": {
            "text/plain": [
              "DatasetDict({\n",
              "    train: Dataset({\n",
              "        features: ['content', 'summary'],\n",
              "        num_rows: 114599\n",
              "    })\n",
              "    validation: Dataset({\n",
              "        features: ['content', 'summary'],\n",
              "        num_rows: 1070\n",
              "    })\n",
              "})"
            ]
          },
          "metadata": {},
          "execution_count": 3
        }
      ],
      "source": [
        "dataset"
      ]
    },
    {
      "cell_type": "code",
      "execution_count": null,
      "id": "ea17c452-be25-4424-884d-14ba92c17b79",
      "metadata": {
        "id": "ea17c452-be25-4424-884d-14ba92c17b79"
      },
      "outputs": [],
      "source": [
        "from datasets import ClassLabel, Sequence\n",
        "import random\n",
        "import pandas as pd\n",
        "from IPython.display import display, HTML\n",
        "\n",
        "def show_random_elements(dataset, num_examples=10):\n",
        "    assert num_examples <= len(dataset), \"Can't pick more elements than there are in the dataset.\"\n",
        "    picks = []\n",
        "    for _ in range(num_examples):\n",
        "        pick = random.randint(0, len(dataset)-1)\n",
        "        while pick in picks:\n",
        "            pick = random.randint(0, len(dataset)-1)\n",
        "        picks.append(pick)\n",
        "\n",
        "    df = pd.DataFrame(dataset[picks])\n",
        "    for column, typ in dataset.features.items():\n",
        "        if isinstance(typ, ClassLabel):\n",
        "            df[column] = df[column].transform(lambda i: typ.names[i])\n",
        "        elif isinstance(typ, Sequence) and isinstance(typ.feature, ClassLabel):\n",
        "            df[column] = df[column].transform(lambda x: [typ.feature.names[i] for i in x])\n",
        "    display(HTML(df.to_html()))"
      ]
    },
    {
      "cell_type": "code",
      "execution_count": null,
      "id": "7b4ee2cc-e964-4a47-9b18-67f99d65ff73",
      "metadata": {
        "id": "7b4ee2cc-e964-4a47-9b18-67f99d65ff73",
        "outputId": "6dc81c94-6b15-4c42-b925-f950e74b2a0a",
        "colab": {
          "base_uri": "https://localhost:8080/",
          "height": 189
        }
      },
      "outputs": [
        {
          "output_type": "display_data",
          "data": {
            "text/plain": [
              "<IPython.core.display.HTML object>"
            ],
            "text/html": [
              "<table border=\"1\" class=\"dataframe\">\n",
              "  <thead>\n",
              "    <tr style=\"text-align: right;\">\n",
              "      <th></th>\n",
              "      <th>content</th>\n",
              "      <th>summary</th>\n",
              "    </tr>\n",
              "  </thead>\n",
              "  <tbody>\n",
              "    <tr>\n",
              "      <th>0</th>\n",
              "      <td>类型#裙*裙型#蓬蓬裙*裙型#公主裙*裙袖长#无袖</td>\n",
              "      <td>女童晚礼服公主裙儿童拖尾&lt;UNK&gt;婚纱蓬蓬裙走秀钢琴&lt;UNK&gt;高端定制；宝宝的胸围腰围要&lt;UNK&gt;裙子的胸围腰围；无袖款你不需要考虑肩宽长短。</td>\n",
              "    </tr>\n",
              "    <tr>\n",
              "      <th>1</th>\n",
              "      <td>类型#裤*版型#宽松*颜色#深色*风格#文艺*风格#简约*风格#运动*图案#格子*裤长#长裤*裤款式#拼接</td>\n",
              "      <td>时尚的彩色格纹点缀衣身，为宝贝编织七彩的童话梦，丰富宝贝的童年时光。简约经典翻领，让宝贝变身帅气文艺的小绅士，手捧童话书，讲述自己感受到的故事。拼接式的深色宽松长裤，让宝贝感受自由运动的乐趣，感受自然的美。</td>\n",
              "    </tr>\n",
              "    <tr>\n",
              "      <th>2</th>\n",
              "      <td>类型#上衣*图案#格子*图案#线条*衣样式#西装*衣领型#翻领*衣款式#拼接*衣款式#腰带</td>\n",
              "      <td>采用了经典的西装翻领设计，可以很好底提升颈部线条。在腰部添加了细碎的褶边，使得造型感更加丰富。腰带以及袖口采用了格纹拼接设计，增添了更多的设计感。</td>\n",
              "    </tr>\n",
              "  </tbody>\n",
              "</table>"
            ]
          },
          "metadata": {}
        }
      ],
      "source": [
        "show_random_elements(dataset[\"train\"], num_examples=3)"
      ]
    },
    {
      "cell_type": "code",
      "execution_count": null,
      "id": "489ccc1b-3820-4f72-934d-3bb0875de954",
      "metadata": {
        "id": "489ccc1b-3820-4f72-934d-3bb0875de954"
      },
      "outputs": [],
      "source": []
    },
    {
      "cell_type": "markdown",
      "id": "b875200f-7e13-46d8-954d-bfaa76829769",
      "metadata": {
        "id": "b875200f-7e13-46d8-954d-bfaa76829769"
      },
      "source": [
        "### 使用 ChatGLM3-6b Tokenizer 处理数据\n",
        "\n",
        "\n",
        "关于 `ignore_label_id` 的设置：\n",
        "\n",
        "在许多自然语言处理和机器学习框架中，`ignore_label_id` 被设置为 -100 是一种常见的约定。这个特殊的值用于标记在计算损失函数时应该被忽略的目标标签。让我们详细了解一下这个选择的原因：\n",
        "\n",
        "1. **损失函数忽略特定值**：训练语言模型时，损失函数（例如交叉熵损失）通常只计算对于模型预测重要或关键的标签的损失。在某些情况下，你可能不希望某些标签对损失计算产生影响。例如，在序列到序列的模型中，输入部分的标签通常被设置为一个忽略值，因为只有输出部分的标签对于训练是重要的。\n",
        "\n",
        "2. **为何选择-100**：这个具体的值是基于实现细节选择的。在 PyTorch 的交叉熵损失函数中，可以指定一个 `ignore_index` 参数。当损失函数看到这个索引值时，它就会忽略对应的输出标签。使用 -100 作为默认值是因为它是一个不太可能出现在标签中的数字（特别是在处理分类问题时，标签通常是从0开始的正整数）。\n",
        "\n",
        "3. **标准化和通用性**：由于这种做法在多个库和框架中被采纳，-100 作为忽略标签的默认值已经变得相对标准化，这有助于维护代码的通用性和可读性。\n",
        "\n",
        "总的来说，将 `ignore_label_id` 设置为 -100 是一种在计算损失时排除特定标签影响的便捷方式。这在处理特定类型的自然语言处理任务时非常有用，尤其是在涉及序列生成或修改的任务中。\n",
        "\n",
        "#### 关于 ChatGLM3 的填充处理说明\n",
        "\n",
        "- input_id（query）里的填充补全了输入长度，目的是不改变原始文本的含义。\n",
        "- label（answer）里的填充会用来跟模型基于 query 生成的结果计算 Loss，为了不影响损失值计算，也需要设置。咱们计算损失时，是针对 answer 部分的 Embedding Vector，因此 label 这样填充，前面的序列就自动忽略掉了，只比较生成内容的 loss。因此，需要将answer前面的部分做忽略填充。"
      ]
    },
    {
      "cell_type": "code",
      "execution_count": null,
      "id": "42e3c1f1-1e5b-4452-babe-234c8ae15bb5",
      "metadata": {
        "id": "42e3c1f1-1e5b-4452-babe-234c8ae15bb5",
        "outputId": "0bcc366c-92e7-433b-b098-ebd99e286ac4",
        "colab": {
          "base_uri": "https://localhost:8080/"
        }
      },
      "outputs": [
        {
          "output_type": "stream",
          "name": "stderr",
          "text": [
            "/usr/local/lib/python3.10/dist-packages/huggingface_hub/file_download.py:1132: FutureWarning: `resume_download` is deprecated and will be removed in version 1.0.0. Downloads always resume when possible. If you want to force a new download, use `force_download=True`.\n",
            "  warnings.warn(\n"
          ]
        }
      ],
      "source": [
        "from transformers import AutoTokenizer\n",
        "\n",
        "# revision='b098244' 版本对应的 ChatGLM3-6B 设置 use_reentrant=False\n",
        "# 最新版本 use_reentrant 被设置为 True，会增加不必要的显存开销\n",
        "tokenizer = AutoTokenizer.from_pretrained(model_name_or_path,\n",
        "                                          trust_remote_code=True,\n",
        "                                          revision='b098244')"
      ]
    },
    {
      "cell_type": "code",
      "execution_count": null,
      "id": "2cc4a0fd-3239-4cb4-bf3f-8d8fcfff9af0",
      "metadata": {
        "id": "2cc4a0fd-3239-4cb4-bf3f-8d8fcfff9af0"
      },
      "outputs": [],
      "source": [
        "# tokenize_func 函数\n",
        "def tokenize_func(example, tokenizer, ignore_label_id=-100):\n",
        "    \"\"\"\n",
        "    对单个数据样本进行tokenize处理。\n",
        "\n",
        "    参数:\n",
        "    example (dict): 包含'content'和'summary'键的字典，代表训练数据的一个样本。\n",
        "    tokenizer (transformers.PreTrainedTokenizer): 用于tokenize文本的tokenizer。\n",
        "    ignore_label_id (int, optional): 在label中用于填充的忽略ID，默认为-100。\n",
        "\n",
        "    返回:\n",
        "    dict: 包含'tokenized_input_ids'和'labels'的字典，用于模型训练。\n",
        "    \"\"\"\n",
        "\n",
        "    # 构建问题文本\n",
        "    question = prompt_text + example['content']\n",
        "    if example.get('input', None) and example['input'].strip():\n",
        "        question += f'\\n{example[\"input\"]}'\n",
        "\n",
        "    # 构建答案文本\n",
        "    answer = example['summary']\n",
        "\n",
        "    # 对问题和答案文本进行tokenize处理\n",
        "    q_ids = tokenizer.encode(text=question, add_special_tokens=False)\n",
        "    a_ids = tokenizer.encode(text=answer, add_special_tokens=False)\n",
        "\n",
        "    # 如果tokenize后的长度超过最大长度限制，则进行截断\n",
        "    if len(q_ids) > max_input_length - 2:  # 保留空间给gmask和bos标记\n",
        "        q_ids = q_ids[:max_input_length - 2]\n",
        "    if len(a_ids) > max_output_length - 1:  # 保留空间给eos标记\n",
        "        a_ids = a_ids[:max_output_length - 1]\n",
        "\n",
        "    # 构建模型的输入格式\n",
        "    input_ids = tokenizer.build_inputs_with_special_tokens(q_ids, a_ids)\n",
        "    question_length = len(q_ids) + 2  # 加上gmask和bos标记\n",
        "\n",
        "    # 构建标签，对于问题部分的输入使用ignore_label_id进行填充\n",
        "    labels = [ignore_label_id] * question_length + input_ids[question_length:]\n",
        "\n",
        "    return {'input_ids': input_ids, 'labels': labels}\n"
      ]
    },
    {
      "cell_type": "code",
      "execution_count": null,
      "id": "d576b3fa-156a-4486-a267-ad773172d90b",
      "metadata": {
        "id": "d576b3fa-156a-4486-a267-ad773172d90b"
      },
      "outputs": [],
      "source": []
    },
    {
      "cell_type": "code",
      "execution_count": null,
      "id": "3a7cda56-a96a-4787-8db9-a712c82e2bb0",
      "metadata": {
        "id": "3a7cda56-a96a-4787-8db9-a712c82e2bb0"
      },
      "outputs": [],
      "source": []
    },
    {
      "cell_type": "code",
      "execution_count": null,
      "id": "f78a19ed-6862-42fa-896d-2c297b94ce41",
      "metadata": {
        "id": "f78a19ed-6862-42fa-896d-2c297b94ce41",
        "outputId": "26a85f1d-b88e-4ccb-ae3b-687c8e91f071",
        "colab": {
          "base_uri": "https://localhost:8080/",
          "height": 49,
          "referenced_widgets": [
            "f5c94417bae84a96b0f1486c47598577",
            "ef04da7007e04f7e8dbe4d5423db2c2c",
            "97af0847d1994a84a9c3022015ee8d5c",
            "be2aa7af389149608691260713b1bf50",
            "8f2c8d781d3b47bbb0a66684c26d79ca",
            "41bf170e3de543108c9325225deecae5",
            "ac6723023b6f453e8fb4d13e7df6d78a",
            "ba6bbf06c7114da6a2c20d75a4d32e06",
            "f863e430bdc34d9fb86ef4816fd9b8fa",
            "1ad9beec82a24703a465bc7f0c4473a0",
            "c0dc462ba4a94e73a9bd5b1fdb38c5e1"
          ]
        }
      },
      "outputs": [
        {
          "output_type": "display_data",
          "data": {
            "text/plain": [
              "Map:   0%|          | 0/114599 [00:00<?, ? examples/s]"
            ],
            "application/vnd.jupyter.widget-view+json": {
              "version_major": 2,
              "version_minor": 0,
              "model_id": "f5c94417bae84a96b0f1486c47598577"
            }
          },
          "metadata": {}
        }
      ],
      "source": [
        "column_names = dataset['train'].column_names\n",
        "tokenized_dataset = dataset['train'].map(\n",
        "    lambda example: tokenize_func(example, tokenizer),\n",
        "    batched=False,\n",
        "    remove_columns=column_names\n",
        ")"
      ]
    },
    {
      "cell_type": "code",
      "execution_count": null,
      "id": "6fe0b50d-56cf-469f-9b35-0eb573cd1b04",
      "metadata": {
        "id": "6fe0b50d-56cf-469f-9b35-0eb573cd1b04",
        "outputId": "7ce9d205-6471-43a6-8042-2a5fe8568383",
        "colab": {
          "base_uri": "https://localhost:8080/",
          "height": 194
        }
      },
      "outputs": [
        {
          "output_type": "display_data",
          "data": {
            "text/plain": [
              "<IPython.core.display.HTML object>"
            ],
            "text/html": [
              "<table border=\"1\" class=\"dataframe\">\n",
              "  <thead>\n",
              "    <tr style=\"text-align: right;\">\n",
              "      <th></th>\n",
              "      <th>input_ids</th>\n",
              "      <th>labels</th>\n",
              "    </tr>\n",
              "  </thead>\n",
              "  <tbody>\n",
              "    <tr>\n",
              "      <th>0</th>\n",
              "      <td>[64790, 64792, 30910, 33467, 31010, 56532, 30998, 38317, 31010, 38683, 54901, 30998, 38317, 31010, 54683, 55602, 30998, 37505, 31010, 37216, 30998, 56532, 54888, 31010, 56529, 56158, 56532, 30998, 56532, 40877, 31010, 42875, 30998, 56532, 40877, 31010, 55097, 55759, 33697, 31706, 56529, 56158, 56532, 54888, 56597, 55857, 31123, 55825, 31706, 56532, 56164, 54377, 56164, 54587, 31123, 55554, 55101, 54557, 56532, 35879, 54963, 55400, 31123, 54892, 55101, 54557, 56778, 56164, 54530, 35752, 31155, 39685, 55487, 34667, 38683, 54901, 46839, 31123, 32082, 54683, 55602, 54585, 35405, 55113, 56089, 33894, 31155, 55500, 54715, 31975, 54531, 55097, 32396, 54530, 35878, 55097, 55759, 31123, 35204, 55360, ...]</td>\n",
              "      <td>[-100, -100, -100, -100, -100, -100, -100, -100, -100, -100, -100, -100, -100, -100, -100, -100, -100, -100, -100, -100, -100, -100, -100, -100, -100, -100, -100, -100, -100, -100, -100, -100, -100, -100, -100, -100, -100, -100, 33697, 31706, 56529, 56158, 56532, 54888, 56597, 55857, 31123, 55825, 31706, 56532, 56164, 54377, 56164, 54587, 31123, 55554, 55101, 54557, 56532, 35879, 54963, 55400, 31123, 54892, 55101, 54557, 56778, 56164, 54530, 35752, 31155, 39685, 55487, 34667, 38683, 54901, 46839, 31123, 32082, 54683, 55602, 54585, 35405, 55113, 56089, 33894, 31155, 55500, 54715, 31975, 54531, 55097, 32396, 54530, 35878, 55097, 55759, 31123, 35204, 55360, ...]</td>\n",
              "    </tr>\n",
              "  </tbody>\n",
              "</table>"
            ]
          },
          "metadata": {}
        }
      ],
      "source": [
        "show_random_elements(tokenized_dataset, num_examples=1)"
      ]
    },
    {
      "cell_type": "markdown",
      "id": "18b28ee0-2207-41c8-a4cf-166d6c2b7a42",
      "metadata": {
        "id": "18b28ee0-2207-41c8-a4cf-166d6c2b7a42"
      },
      "source": [
        "### 数据集处理：shuffle & flatten\n",
        "\n",
        "洗牌(shuffle)会将数据集的索引列表打乱，以创建一个索引映射。\n",
        "\n",
        "然而，一旦您的数据集具有索引映射，速度可能会变慢10倍。这是因为需要额外的步骤来使用索引映射获取要读取的行索引，并且最重要的是，您不再连续地读取数据块。\n",
        "\n",
        "要恢复速度，需要再次使用 Dataset.flatten_indices()将整个数据集重新写入磁盘上，从而删除索引映射。\n",
        "\n",
        "ref: https://huggingface.co/docs/datasets/v2.15.0/en/package_reference/main_classes#datasets.Dataset.flatten_indices"
      ]
    },
    {
      "cell_type": "code",
      "execution_count": null,
      "id": "75293898-f010-4cae-bf01-d58afc9dc214",
      "metadata": {
        "id": "75293898-f010-4cae-bf01-d58afc9dc214"
      },
      "outputs": [],
      "source": [
        "tokenized_dataset = tokenized_dataset.shuffle(seed=seed).select(range(10000))"
      ]
    },
    {
      "cell_type": "code",
      "execution_count": null,
      "id": "99f17038-ec1a-4935-ae39-afca620c461d",
      "metadata": {
        "id": "99f17038-ec1a-4935-ae39-afca620c461d",
        "outputId": "72e235e0-19ae-45bd-cfe0-2b46c10cb4e4",
        "colab": {
          "base_uri": "https://localhost:8080/",
          "height": 49,
          "referenced_widgets": [
            "414f9444d2d640f4ab722e6aa744e669",
            "1bb755c66fb04322b36f11f9c2e0b7b1",
            "f6e7d4c9d7054c458f092623f283fe4a",
            "64fc353898784aa1bf8f388bcd5b432a",
            "c85b99733eb14b16aad67f518ba6b77d",
            "c69a221a9ead4b8db1d26b65fe713524",
            "45a5f884c003402f82098b4f83df3525",
            "0c7329b75e5a4a44977eabc2182e6cea",
            "3b96e345e814425fbd1bda10176fc9ee",
            "aa519cc302e64d3b8a88b87abd9d6cdf",
            "177ce59cdde7414f996e668197709673"
          ]
        }
      },
      "outputs": [
        {
          "output_type": "display_data",
          "data": {
            "text/plain": [
              "Flattening the indices:   0%|          | 0/10000 [00:00<?, ? examples/s]"
            ],
            "application/vnd.jupyter.widget-view+json": {
              "version_major": 2,
              "version_minor": 0,
              "model_id": "414f9444d2d640f4ab722e6aa744e669"
            }
          },
          "metadata": {}
        }
      ],
      "source": [
        "tokenized_dataset = tokenized_dataset.flatten_indices()"
      ]
    },
    {
      "cell_type": "code",
      "execution_count": null,
      "id": "a5fc7921-95b1-45b5-a88e-2a80f9b25ceb",
      "metadata": {
        "id": "a5fc7921-95b1-45b5-a88e-2a80f9b25ceb"
      },
      "outputs": [],
      "source": []
    },
    {
      "cell_type": "markdown",
      "id": "281bac4d-4a57-4de3-991e-d62fbe15b6af",
      "metadata": {
        "id": "281bac4d-4a57-4de3-991e-d62fbe15b6af"
      },
      "source": [
        "### 定义 DataCollatorForChatGLM 类 批量处理数据"
      ]
    },
    {
      "cell_type": "code",
      "execution_count": null,
      "id": "631a70f9-a75e-42d6-ad8b-5fd635db8d84",
      "metadata": {
        "id": "631a70f9-a75e-42d6-ad8b-5fd635db8d84"
      },
      "outputs": [],
      "source": [
        "import torch\n",
        "from typing import List, Dict, Optional\n",
        "\n",
        "# DataCollatorForChatGLM 类\n",
        "class DataCollatorForChatGLM:\n",
        "    \"\"\"\n",
        "    用于处理批量数据的DataCollator，尤其是在使用 ChatGLM 模型时。\n",
        "\n",
        "    该类负责将多个数据样本（tokenized input）合并为一个批量，并在必要时进行填充(padding)。\n",
        "\n",
        "    属性:\n",
        "    pad_token_id (int): 用于填充(padding)的token ID。\n",
        "    max_length (int): 单个批量数据的最大长度限制。\n",
        "    ignore_label_id (int): 在标签中用于填充的ID。\n",
        "    \"\"\"\n",
        "\n",
        "    def __init__(self, pad_token_id: int, max_length: int = 2048, ignore_label_id: int = -100):\n",
        "        \"\"\"\n",
        "        初始化DataCollator。\n",
        "\n",
        "        参数:\n",
        "        pad_token_id (int): 用于填充(padding)的token ID。\n",
        "        max_length (int): 单个批量数据的最大长度限制。\n",
        "        ignore_label_id (int): 在标签中用于填充的ID，默认为-100。\n",
        "        \"\"\"\n",
        "        self.pad_token_id = pad_token_id\n",
        "        self.ignore_label_id = ignore_label_id\n",
        "        self.max_length = max_length\n",
        "\n",
        "    def __call__(self, batch_data: List[Dict[str, List]]) -> Dict[str, torch.Tensor]:\n",
        "        \"\"\"\n",
        "        处理批量数据。\n",
        "\n",
        "        参数:\n",
        "        batch_data (List[Dict[str, List]]): 包含多个样本的字典列表。\n",
        "\n",
        "        返回:\n",
        "        Dict[str, torch.Tensor]: 包含处理后的批量数据的字典。\n",
        "        \"\"\"\n",
        "        # 计算批量中每个样本的长度\n",
        "        len_list = [len(d['input_ids']) for d in batch_data]\n",
        "        batch_max_len = max(len_list)  # 找到最长的样本长度\n",
        "\n",
        "        input_ids, labels = [], []\n",
        "        for len_of_d, d in sorted(zip(len_list, batch_data), key=lambda x: -x[0]):\n",
        "            pad_len = batch_max_len - len_of_d  # 计算需要填充的长度\n",
        "            # 添加填充，并确保数据长度不超过最大长度限制\n",
        "            ids = d['input_ids'] + [self.pad_token_id] * pad_len\n",
        "            label = d['labels'] + [self.ignore_label_id] * pad_len\n",
        "            if batch_max_len > self.max_length:\n",
        "                ids = ids[:self.max_length]\n",
        "                label = label[:self.max_length]\n",
        "            input_ids.append(torch.LongTensor(ids))\n",
        "            labels.append(torch.LongTensor(label))\n",
        "\n",
        "        # 将处理后的数据堆叠成一个tensor\n",
        "        input_ids = torch.stack(input_ids)\n",
        "        labels = torch.stack(labels)\n",
        "\n",
        "        return {'input_ids': input_ids, 'labels': labels}\n"
      ]
    },
    {
      "cell_type": "code",
      "execution_count": null,
      "id": "790fb86b-7662-4c49-8e3b-3db239c60838",
      "metadata": {
        "id": "790fb86b-7662-4c49-8e3b-3db239c60838"
      },
      "outputs": [],
      "source": [
        "# 准备数据整理器\n",
        "data_collator = DataCollatorForChatGLM(pad_token_id=tokenizer.pad_token_id)"
      ]
    },
    {
      "cell_type": "code",
      "execution_count": null,
      "id": "ff4124a3-e2a5-4e68-828b-3db3590d6f04",
      "metadata": {
        "id": "ff4124a3-e2a5-4e68-828b-3db3590d6f04"
      },
      "outputs": [],
      "source": []
    },
    {
      "cell_type": "markdown",
      "id": "0a223fcf-630a-4978-ad96-bfe93c6581ea",
      "metadata": {
        "id": "0a223fcf-630a-4978-ad96-bfe93c6581ea"
      },
      "source": [
        "## 训练模型\n",
        "\n",
        "### 加载 ChatGLM3-6B 量化模型\n",
        "\n",
        "使用 `nf4` 量化数据类型加载模型，开启双量化配置，以`bf16`混合精度训练，预估显存占用接近4GB"
      ]
    },
    {
      "cell_type": "code",
      "execution_count": null,
      "id": "a1480790-6035-4212-bc64-4292f6a908ca",
      "metadata": {
        "id": "a1480790-6035-4212-bc64-4292f6a908ca"
      },
      "outputs": [],
      "source": [
        "from transformers import AutoModel, BitsAndBytesConfig\n",
        "\n",
        "_compute_dtype_map = {\n",
        "    'fp32': torch.float32,\n",
        "    'fp16': torch.float16,\n",
        "    'bf16': torch.bfloat16\n",
        "}\n",
        "\n",
        "# QLoRA 量化配置\n",
        "q_config = BitsAndBytesConfig(load_in_4bit=True,\n",
        "                              bnb_4bit_quant_type='nf4',\n",
        "                              bnb_4bit_use_double_quant=True,\n",
        "                              bnb_4bit_compute_dtype=_compute_dtype_map['bf16'])\n"
      ]
    },
    {
      "cell_type": "markdown",
      "id": "cd8738b8-f510-4d9c-b789-d5afda67e39b",
      "metadata": {
        "id": "cd8738b8-f510-4d9c-b789-d5afda67e39b"
      },
      "source": [
        "### 加载模型\n"
      ]
    },
    {
      "cell_type": "code",
      "execution_count": null,
      "id": "c6ab5f48-a7ce-492a-bb8b-4c0c3ff04bd0",
      "metadata": {
        "id": "c6ab5f48-a7ce-492a-bb8b-4c0c3ff04bd0",
        "outputId": "4d0a1f82-c9ef-4ddc-b67f-58c8a388de84",
        "colab": {
          "base_uri": "https://localhost:8080/",
          "height": 201,
          "referenced_widgets": [
            "33f8dd7f1995450ea6dc38f36e1a225f",
            "0761c616a0b848cabeb5c463ccf7d4b1",
            "811670398bf34be7a11ae094862bd95a",
            "29a433022e24437f9a2d0be11d62cf44",
            "eeaad5ad7f11490bbeefa8780809313a",
            "2e1cb129967040cb9c0a6b4b02aec68f",
            "fca800dd45b541b9ad82e7e33d0da793",
            "02d51d0ee45142e2b9ad78909b543334",
            "52a7e8305ec54c4d8e18f72f25e31c44",
            "191829a70ded4418a79aee0bc5ddaac8",
            "640bdb9128c94ed08b35b1b6360abf75"
          ]
        }
      },
      "outputs": [
        {
          "output_type": "stream",
          "name": "stderr",
          "text": [
            "/usr/local/lib/python3.10/dist-packages/huggingface_hub/file_download.py:1132: FutureWarning: `resume_download` is deprecated and will be removed in version 1.0.0. Downloads always resume when possible. If you want to force a new download, use `force_download=True`.\n",
            "  warnings.warn(\n",
            "/usr/local/lib/python3.10/dist-packages/transformers/utils/generic.py:311: UserWarning: torch.utils._pytree._register_pytree_node is deprecated. Please use torch.utils._pytree.register_pytree_node instead.\n",
            "  torch.utils._pytree._register_pytree_node(\n",
            "/usr/local/lib/python3.10/dist-packages/transformers/utils/generic.py:311: UserWarning: torch.utils._pytree._register_pytree_node is deprecated. Please use torch.utils._pytree.register_pytree_node instead.\n",
            "  torch.utils._pytree._register_pytree_node(\n"
          ]
        },
        {
          "output_type": "display_data",
          "data": {
            "text/plain": [
              "Loading checkpoint shards:   0%|          | 0/7 [00:00<?, ?it/s]"
            ],
            "application/vnd.jupyter.widget-view+json": {
              "version_major": 2,
              "version_minor": 0,
              "model_id": "33f8dd7f1995450ea6dc38f36e1a225f"
            }
          },
          "metadata": {}
        },
        {
          "output_type": "stream",
          "name": "stderr",
          "text": [
            "/usr/local/lib/python3.10/dist-packages/huggingface_hub/file_download.py:1132: FutureWarning: `resume_download` is deprecated and will be removed in version 1.0.0. Downloads always resume when possible. If you want to force a new download, use `force_download=True`.\n",
            "  warnings.warn(\n"
          ]
        }
      ],
      "source": [
        "# revision='b098244' 版本对应的 ChatGLM3-6B 设置 use_reentrant=False\n",
        "# 最新版本 use_reentrant 被设置为 True，会增加不必要的显存开销\n",
        "model = AutoModel.from_pretrained(model_name_or_path,\n",
        "                                  quantization_config=q_config,\n",
        "                                  device_map='auto',\n",
        "                                  trust_remote_code=True,\n",
        "                                  revision='b098244'\n",
        "                                  )"
      ]
    },
    {
      "cell_type": "code",
      "execution_count": null,
      "id": "aaabfe10-d762-498a-87f1-1506d2ea2fe9",
      "metadata": {
        "id": "aaabfe10-d762-498a-87f1-1506d2ea2fe9",
        "outputId": "1111a6d6-c199-4161-cd40-42ee7a6dff31",
        "colab": {
          "base_uri": "https://localhost:8080/"
        }
      },
      "outputs": [
        {
          "output_type": "stream",
          "name": "stdout",
          "text": [
            "3739.69MiB\n"
          ]
        }
      ],
      "source": [
        " # 获取当前模型占用的 GPU显存（差值为预留给 PyTorch 的显存）\n",
        "memory_footprint_bytes = model.get_memory_footprint()\n",
        "memory_footprint_mib = memory_footprint_bytes / (1024 ** 2)  # 转换为 MiB\n",
        "\n",
        "print(f\"{memory_footprint_mib:.2f}MiB\")"
      ]
    },
    {
      "cell_type": "markdown",
      "id": "9b58f580-34c9-4f7f-b4cb-86548f25f2b1",
      "metadata": {
        "id": "9b58f580-34c9-4f7f-b4cb-86548f25f2b1"
      },
      "source": [
        "### 预处理量化模型\n",
        "\n",
        "预处理量化后的模型，使其可以支持低精度微调训练\n",
        "\n",
        "ref: https://huggingface.co/docs/peft/main/en/developer_guides/quantization#quantize-a-model"
      ]
    },
    {
      "cell_type": "code",
      "execution_count": null,
      "id": "5f59a712-4829-4929-b795-31ffdfab1761",
      "metadata": {
        "id": "5f59a712-4829-4929-b795-31ffdfab1761"
      },
      "outputs": [],
      "source": [
        "from peft import TaskType, LoraConfig, get_peft_model, prepare_model_for_kbit_training\n",
        "\n",
        "kbit_model = prepare_model_for_kbit_training(model)"
      ]
    },
    {
      "cell_type": "markdown",
      "id": "21649f5e-3f31-44ff-ab0b-82ef1614491a",
      "metadata": {
        "id": "21649f5e-3f31-44ff-ab0b-82ef1614491a"
      },
      "source": [
        "### 自定义模型新增 Adapter\n",
        "\n",
        "当新的热门 transformer 网络架构（新模型）发布时，Huggingface 社区会尽力快速将它们添加到PEFT中。\n",
        "\n",
        "如果是 Hugging Face Transformers 库还未内置支持的模型，可以使用自定义模型的方式进行配置。\n",
        "\n",
        "具体来说，在初始化相应的微调配置类（例如`LoraConfig`）时，我们需要显式指定在哪些层新增适配器（Adapter），并将其设置正确。\n",
        "\n",
        "ref: https://huggingface.co/docs/peft/developer_guides/custom_models\n",
        "\n",
        "\n",
        "#### PEFT 适配模块设置\n",
        "\n",
        "\n",
        "在PEFT库的 [constants.py](https://github.com/huggingface/peft/blob/main/src/peft/utils/constants.py) 文件中定义了不同的 PEFT 方法，在各类大模型上的微调适配模块。\n",
        "\n",
        "通常，名称相同的模型架构也类似，应用微调方法时的适配器设置也几乎一致。\n",
        "\n",
        "例如，如果新模型架构是`mistral`模型的变体，并且您想应用 LoRA 微调。在 TRANSFORMERS_MODELS_TO_LORA_TARGET_MODULES_MAPPING中`mistral`包含[\"q_proj\", \"v_proj\"]。\n",
        "\n",
        "这表示说，对于`mistral`模型，LoRA 的 target_modules 通常是 [\"q_proj\", \"v_proj\"]。"
      ]
    },
    {
      "cell_type": "code",
      "execution_count": null,
      "id": "b4dd1cb6-c1b4-430b-b031-c842ddc683a6",
      "metadata": {
        "id": "b4dd1cb6-c1b4-430b-b031-c842ddc683a6"
      },
      "outputs": [],
      "source": [
        "from peft.utils import TRANSFORMERS_MODELS_TO_LORA_TARGET_MODULES_MAPPING\n",
        "\n",
        "target_modules = TRANSFORMERS_MODELS_TO_LORA_TARGET_MODULES_MAPPING['chatglm']"
      ]
    },
    {
      "cell_type": "code",
      "execution_count": null,
      "id": "517018b1-dff0-4caf-a1ff-21933f95e4b5",
      "metadata": {
        "id": "517018b1-dff0-4caf-a1ff-21933f95e4b5",
        "outputId": "08e68b2f-6146-4abb-9f41-140c4ed813fe",
        "colab": {
          "base_uri": "https://localhost:8080/"
        }
      },
      "outputs": [
        {
          "output_type": "execute_result",
          "data": {
            "text/plain": [
              "['query_key_value']"
            ]
          },
          "metadata": {},
          "execution_count": 19
        }
      ],
      "source": [
        "target_modules"
      ]
    },
    {
      "cell_type": "markdown",
      "id": "7d8b7c08-931e-4764-9bfb-4230bc825561",
      "metadata": {
        "id": "7d8b7c08-931e-4764-9bfb-4230bc825561"
      },
      "source": [
        "### LoRA 适配器配置"
      ]
    },
    {
      "cell_type": "code",
      "execution_count": null,
      "id": "ab44290b-7bf2-44f0-ac36-ef0d41527224",
      "metadata": {
        "id": "ab44290b-7bf2-44f0-ac36-ef0d41527224"
      },
      "outputs": [],
      "source": [
        "lora_config = LoraConfig(\n",
        "    target_modules=target_modules,\n",
        "    r=lora_rank,\n",
        "    lora_alpha=lora_alpha,\n",
        "    lora_dropout=lora_dropout,\n",
        "    bias='none',\n",
        "    inference_mode=False,\n",
        "    task_type=TaskType.CAUSAL_LM\n",
        ")"
      ]
    },
    {
      "cell_type": "code",
      "execution_count": null,
      "id": "bee2f80a-ccac-4c85-965e-ce5e5be528e8",
      "metadata": {
        "id": "bee2f80a-ccac-4c85-965e-ce5e5be528e8"
      },
      "outputs": [],
      "source": [
        "qlora_model = get_peft_model(kbit_model, lora_config)"
      ]
    },
    {
      "cell_type": "code",
      "execution_count": null,
      "id": "9cf0acae-9e20-4d30-9999-53c3079cc42c",
      "metadata": {
        "id": "9cf0acae-9e20-4d30-9999-53c3079cc42c",
        "outputId": "00c77909-18e8-44ab-a568-43b2245bc250",
        "colab": {
          "base_uri": "https://localhost:8080/"
        }
      },
      "outputs": [
        {
          "output_type": "stream",
          "name": "stdout",
          "text": [
            "trainable params: 974,848 || all params: 6,244,558,848 || trainable%: 0.0156\n"
          ]
        }
      ],
      "source": [
        "qlora_model.print_trainable_parameters()"
      ]
    },
    {
      "cell_type": "code",
      "execution_count": null,
      "id": "6d84f15b-93e1-4d90-80b9-ead28cd98406",
      "metadata": {
        "id": "6d84f15b-93e1-4d90-80b9-ead28cd98406"
      },
      "outputs": [],
      "source": []
    },
    {
      "cell_type": "markdown",
      "id": "d8043c51-fa42-4867-9382-103ad5b082f3",
      "metadata": {
        "id": "d8043c51-fa42-4867-9382-103ad5b082f3"
      },
      "source": [
        "### 训练超参数配置\n",
        "\n",
        "- 1个epoch表示对训练集的所有样本进行一次完整的训练。\n",
        "- `num_train_epochs` 表示要完整进行多少个 epochs 的训练。\n",
        "\n",
        "#### 关于使用 num_train_epochs 时，训练总步数 `steps` 的计算方法\n",
        "\n",
        "- 训练总步数： `total_steps = steps/epoch * num_train_epochs`\n",
        "- 每个epoch的训练步数：`steps/epoch = num_train_examples / (batch_size * gradient_accumulation_steps)`\n",
        "\n",
        "\n",
        "**以 `adgen` 数据集为例计算**\n",
        "\n",
        "```json\n",
        "DatasetDict({\n",
        "    train: Dataset({\n",
        "        features: ['content', 'summary'],\n",
        "        num_rows: 114599\n",
        "    })\n",
        "    validation: Dataset({\n",
        "        features: ['content', 'summary'],\n",
        "        num_rows: 1070\n",
        "    })\n",
        "})\n",
        "```\n",
        "\n",
        "代入超参数和配置进行计算：\n",
        "\n",
        "```python\n",
        "num_train_epochs = 1\n",
        "num_train_examples = 114599\n",
        "batch_size = 16\n",
        "gradient_accumulation_steps = 4\n",
        "\n",
        "\n",
        "steps = num_train_epochs * num_train_examples / (batch_size * gradient_accumulation_steps)\n",
        "      = 1 * 114599 / (16 * 4)\n",
        "      = 1790\n",
        "```"
      ]
    },
    {
      "cell_type": "code",
      "execution_count": null,
      "id": "aa527b7e-2dd6-46f0-ba7f-49f1430695a2",
      "metadata": {
        "id": "aa527b7e-2dd6-46f0-ba7f-49f1430695a2"
      },
      "outputs": [],
      "source": [
        "from transformers import TrainingArguments, Trainer\n",
        "\n",
        "training_args = TrainingArguments(\n",
        "    output_dir=f\"models/{model_name_or_path}\",          # 输出目录\n",
        "    per_device_train_batch_size=16,                     # 每个设备的训练批量大小\n",
        "    gradient_accumulation_steps=4,                     # 梯度累积步数\n",
        "    # per_device_eval_batch_size=8,                      # 每个设备的评估批量大小\n",
        "    learning_rate=1e-3,                                # 学习率\n",
        "    num_train_epochs=1,                                # 训练轮数\n",
        "    lr_scheduler_type=\"linear\",                        # 学习率调度器类型\n",
        "    warmup_ratio=0.1,                                  # 预热比例\n",
        "    logging_steps=10,                                 # 日志记录步数\n",
        "    save_strategy=\"steps\",                             # 模型保存策略\n",
        "    save_steps=100,                                    # 模型保存步数\n",
        "    # evaluation_strategy=\"steps\",                       # 评估策略\n",
        "    # eval_steps=500,                                    # 评估步数\n",
        "    optim=\"adamw_torch\",                               # 优化器类型\n",
        "    fp16=True,                                        # 是否使用混合精度训练\n",
        ")\n"
      ]
    },
    {
      "cell_type": "code",
      "execution_count": null,
      "id": "563f6592-1dac-433e-8195-c24761350cd5",
      "metadata": {
        "id": "563f6592-1dac-433e-8195-c24761350cd5",
        "outputId": "f8f568da-565a-4680-b88b-23fef4852010",
        "colab": {
          "base_uri": "https://localhost:8080/"
        }
      },
      "outputs": [
        {
          "output_type": "stream",
          "name": "stderr",
          "text": [
            "/usr/local/lib/python3.10/dist-packages/accelerate/accelerator.py:447: FutureWarning: Passing the following arguments to `Accelerator` is deprecated and will be removed in version 1.0 of Accelerate: dict_keys(['dispatch_batches']). Please pass an `accelerate.DataLoaderConfiguration` instead: \n",
            "dataloader_config = DataLoaderConfiguration(dispatch_batches=None)\n",
            "  warnings.warn(\n"
          ]
        }
      ],
      "source": [
        "trainer = Trainer(\n",
        "        model=qlora_model,\n",
        "        args=training_args,\n",
        "        train_dataset=tokenized_dataset,\n",
        "        data_collator=data_collator\n",
        "    )"
      ]
    },
    {
      "cell_type": "markdown",
      "id": "d1ba1de6-6e37-42a1-9ff0-4e926dee5a74",
      "metadata": {
        "id": "d1ba1de6-6e37-42a1-9ff0-4e926dee5a74"
      },
      "source": [
        "#### 训练参数（用于演示）"
      ]
    },
    {
      "cell_type": "code",
      "execution_count": null,
      "id": "6164c2c8-47b4-4472-a192-952d8e425554",
      "metadata": {
        "id": "6164c2c8-47b4-4472-a192-952d8e425554"
      },
      "outputs": [],
      "source": [
        "from transformers import TrainingArguments, Trainer\n",
        "\n",
        "training_demo_args = TrainingArguments(\n",
        "    output_dir=f\"models/demo/{model_name_or_path}\",          # 输出目录\n",
        "    per_device_train_batch_size=16,                     # 每个设备的训练批量大小\n",
        "    gradient_accumulation_steps=4,                     # 梯度累积步数\n",
        "    learning_rate=1e-3,                                # 学习率\n",
        "    max_steps=100,                                     # 训练步数\n",
        "    lr_scheduler_type=\"linear\",                        # 学习率调度器类型\n",
        "    warmup_ratio=0.1,                                  # 预热比例\n",
        "    logging_steps=10,                                 # 日志记录步数\n",
        "    save_strategy=\"steps\",                             # 模型保存策略\n",
        "    save_steps=20,                                    # 模型保存步数\n",
        "    optim=\"adamw_torch\",                               # 优化器类型\n",
        "    fp16=True,                                        # 是否使用混合精度训练\n",
        ")"
      ]
    },
    {
      "cell_type": "code",
      "execution_count": null,
      "id": "9655c7a7-75fd-4f0a-b190-e97a533c9bae",
      "metadata": {
        "id": "9655c7a7-75fd-4f0a-b190-e97a533c9bae",
        "outputId": "daa1d1c1-9b9f-41d6-c624-63bc777dcfa0",
        "colab": {
          "base_uri": "https://localhost:8080/"
        }
      },
      "outputs": [
        {
          "output_type": "stream",
          "name": "stderr",
          "text": [
            "/usr/local/lib/python3.10/dist-packages/accelerate/accelerator.py:447: FutureWarning: Passing the following arguments to `Accelerator` is deprecated and will be removed in version 1.0 of Accelerate: dict_keys(['dispatch_batches']). Please pass an `accelerate.DataLoaderConfiguration` instead: \n",
            "dataloader_config = DataLoaderConfiguration(dispatch_batches=None)\n",
            "  warnings.warn(\n"
          ]
        }
      ],
      "source": [
        "trainer = Trainer(\n",
        "        model=qlora_model,\n",
        "        args=training_demo_args,\n",
        "        train_dataset=tokenized_dataset,\n",
        "        data_collator=data_collator\n",
        "    )"
      ]
    },
    {
      "cell_type": "markdown",
      "id": "7073aa2a-22f0-4ac1-ba93-5d8953ddb18f",
      "metadata": {
        "id": "7073aa2a-22f0-4ac1-ba93-5d8953ddb18f"
      },
      "source": [
        "### 开始训练\n"
      ]
    },
    {
      "cell_type": "code",
      "execution_count": null,
      "id": "07413af1-dff0-466a-adaa-00a80f327350",
      "metadata": {
        "id": "07413af1-dff0-466a-adaa-00a80f327350",
        "outputId": "f2115e6e-6bc8-4210-91c0-5d376b2bd9ce",
        "colab": {
          "base_uri": "https://localhost:8080/",
          "height": 612
        }
      },
      "outputs": [
        {
          "output_type": "stream",
          "name": "stderr",
          "text": [
            "WARNING:transformers_modules.THUDM.chatglm3-6b.b098244a71fbe69ce149682d9072a7629f7e908c.modeling_chatglm:`use_cache=True` is incompatible with gradient checkpointing. Setting `use_cache=False`...\n",
            "/usr/local/lib/python3.10/dist-packages/torch/utils/checkpoint.py:464: UserWarning: torch.utils.checkpoint: the use_reentrant parameter should be passed explicitly. In version 2.4 we will raise an exception if use_reentrant is not passed. use_reentrant=False is recommended, but if you need to preserve the current default behavior, you can pass use_reentrant=True. Refer to docs for more details on the differences between the two variants.\n",
            "  warnings.warn(\n"
          ]
        },
        {
          "output_type": "display_data",
          "data": {
            "text/plain": [
              "<IPython.core.display.HTML object>"
            ],
            "text/html": [
              "\n",
              "    <div>\n",
              "      \n",
              "      <progress value='100' max='100' style='width:300px; height:20px; vertical-align: middle;'></progress>\n",
              "      [100/100 26:51, Epoch 0/1]\n",
              "    </div>\n",
              "    <table border=\"1\" class=\"dataframe\">\n",
              "  <thead>\n",
              " <tr style=\"text-align: left;\">\n",
              "      <th>Step</th>\n",
              "      <th>Training Loss</th>\n",
              "    </tr>\n",
              "  </thead>\n",
              "  <tbody>\n",
              "    <tr>\n",
              "      <td>10</td>\n",
              "      <td>4.677100</td>\n",
              "    </tr>\n",
              "    <tr>\n",
              "      <td>20</td>\n",
              "      <td>3.808500</td>\n",
              "    </tr>\n",
              "    <tr>\n",
              "      <td>30</td>\n",
              "      <td>3.579600</td>\n",
              "    </tr>\n",
              "    <tr>\n",
              "      <td>40</td>\n",
              "      <td>3.513200</td>\n",
              "    </tr>\n",
              "    <tr>\n",
              "      <td>50</td>\n",
              "      <td>3.441200</td>\n",
              "    </tr>\n",
              "    <tr>\n",
              "      <td>60</td>\n",
              "      <td>3.421800</td>\n",
              "    </tr>\n",
              "    <tr>\n",
              "      <td>70</td>\n",
              "      <td>3.389800</td>\n",
              "    </tr>\n",
              "    <tr>\n",
              "      <td>80</td>\n",
              "      <td>3.394500</td>\n",
              "    </tr>\n",
              "    <tr>\n",
              "      <td>90</td>\n",
              "      <td>3.357100</td>\n",
              "    </tr>\n",
              "    <tr>\n",
              "      <td>100</td>\n",
              "      <td>3.346000</td>\n",
              "    </tr>\n",
              "  </tbody>\n",
              "</table><p>"
            ]
          },
          "metadata": {}
        },
        {
          "output_type": "stream",
          "name": "stderr",
          "text": [
            "/usr/local/lib/python3.10/dist-packages/torch/utils/checkpoint.py:464: UserWarning: torch.utils.checkpoint: the use_reentrant parameter should be passed explicitly. In version 2.4 we will raise an exception if use_reentrant is not passed. use_reentrant=False is recommended, but if you need to preserve the current default behavior, you can pass use_reentrant=True. Refer to docs for more details on the differences between the two variants.\n",
            "  warnings.warn(\n",
            "/usr/local/lib/python3.10/dist-packages/torch/utils/checkpoint.py:464: UserWarning: torch.utils.checkpoint: the use_reentrant parameter should be passed explicitly. In version 2.4 we will raise an exception if use_reentrant is not passed. use_reentrant=False is recommended, but if you need to preserve the current default behavior, you can pass use_reentrant=True. Refer to docs for more details on the differences between the two variants.\n",
            "  warnings.warn(\n",
            "/usr/local/lib/python3.10/dist-packages/torch/utils/checkpoint.py:464: UserWarning: torch.utils.checkpoint: the use_reentrant parameter should be passed explicitly. In version 2.4 we will raise an exception if use_reentrant is not passed. use_reentrant=False is recommended, but if you need to preserve the current default behavior, you can pass use_reentrant=True. Refer to docs for more details on the differences between the two variants.\n",
            "  warnings.warn(\n",
            "/usr/local/lib/python3.10/dist-packages/torch/utils/checkpoint.py:464: UserWarning: torch.utils.checkpoint: the use_reentrant parameter should be passed explicitly. In version 2.4 we will raise an exception if use_reentrant is not passed. use_reentrant=False is recommended, but if you need to preserve the current default behavior, you can pass use_reentrant=True. Refer to docs for more details on the differences between the two variants.\n",
            "  warnings.warn(\n"
          ]
        },
        {
          "output_type": "execute_result",
          "data": {
            "text/plain": [
              "TrainOutput(global_step=100, training_loss=3.592884216308594, metrics={'train_runtime': 1628.7474, 'train_samples_per_second': 3.929, 'train_steps_per_second': 0.061, 'total_flos': 3.905509307901542e+16, 'train_loss': 3.592884216308594, 'epoch': 0.64})"
            ]
          },
          "metadata": {},
          "execution_count": 28
        }
      ],
      "source": [
        "trainer.train()"
      ]
    },
    {
      "cell_type": "code",
      "execution_count": null,
      "id": "320cd8a8-3690-4a2b-b725-f4c1316646ac",
      "metadata": {
        "id": "320cd8a8-3690-4a2b-b725-f4c1316646ac"
      },
      "outputs": [],
      "source": [
        "trainer.model.save_pretrained(f\"models/demo/{model_name_or_path}\")"
      ]
    },
    {
      "cell_type": "code",
      "execution_count": null,
      "id": "9909f94a-b993-41b4-99f2-95a3b8b38c14",
      "metadata": {
        "id": "9909f94a-b993-41b4-99f2-95a3b8b38c14"
      },
      "outputs": [],
      "source": [
        "from peft import PeftModel, PeftConfig\n"
      ]
    },
    {
      "cell_type": "code",
      "source": [
        "print(f'输入: \\n{input_text}')"
      ],
      "metadata": {
        "id": "h7v7NUH3TmMq",
        "outputId": "e9b1e0ef-670d-4ee6-f504-17aaffd5eba7",
        "colab": {
          "base_uri": "https://localhost:8080/"
        }
      },
      "id": "h7v7NUH3TmMq",
      "execution_count": null,
      "outputs": [
        {
          "output_type": "stream",
          "name": "stdout",
          "text": [
            "输入: \n",
            "类型#裙+版型#显瘦+风格#文艺+风格#简约+图案#印花+图案#撞色+裙下摆#压褶+裙长#连衣裙+裙领型#圆领\n"
          ]
        }
      ]
    },
    {
      "cell_type": "code",
      "source": [
        "config = PeftConfig.from_pretrained('/content/models/demo/THUDM/chatglm3-6b')"
      ],
      "metadata": {
        "id": "tLeSm3XHUdSs"
      },
      "id": "tLeSm3XHUdSs",
      "execution_count": null,
      "outputs": []
    },
    {
      "cell_type": "code",
      "source": [
        "print(config.base_model_name_or_path)"
      ],
      "metadata": {
        "id": "967jOCsyVgXV",
        "outputId": "af51f072-939d-44c0-dad4-60dc86117678",
        "colab": {
          "base_uri": "https://localhost:8080/"
        }
      },
      "id": "967jOCsyVgXV",
      "execution_count": null,
      "outputs": [
        {
          "output_type": "stream",
          "name": "stdout",
          "text": [
            "THUDM/chatglm3-6b\n"
          ]
        }
      ]
    },
    {
      "cell_type": "code",
      "source": [
        "input_text = '类型#裙+版型#显瘦+风格#文艺+风格#简约+图案#印花+图案#撞色+裙下摆#压褶+裙长#连衣裙+裙领型#圆领'"
      ],
      "metadata": {
        "id": "Xy9m8CKsUFSQ"
      },
      "id": "Xy9m8CKsUFSQ",
      "execution_count": null,
      "outputs": []
    },
    {
      "cell_type": "code",
      "source": [
        "tokenizer = AutoTokenizer.from_pretrained(config.base_model_name_or_path, trust_remote_code=True)"
      ],
      "metadata": {
        "id": "DTTgl3z9XkiT",
        "outputId": "49f32dbe-e508-49a1-dc8f-babe24dcf498",
        "colab": {
          "base_uri": "https://localhost:8080/"
        }
      },
      "id": "DTTgl3z9XkiT",
      "execution_count": null,
      "outputs": [
        {
          "output_type": "stream",
          "name": "stderr",
          "text": [
            "WARNING:transformers_modules.THUDM.chatglm3-6b.b3121c8b1863903a419b9baee701d3e19dfba58b.tokenization_chatglm:Setting eos_token is not supported, use the default one.\n",
            "WARNING:transformers_modules.THUDM.chatglm3-6b.b3121c8b1863903a419b9baee701d3e19dfba58b.tokenization_chatglm:Setting pad_token is not supported, use the default one.\n",
            "WARNING:transformers_modules.THUDM.chatglm3-6b.b3121c8b1863903a419b9baee701d3e19dfba58b.tokenization_chatglm:Setting unk_token is not supported, use the default one.\n"
          ]
        }
      ]
    },
    {
      "cell_type": "code",
      "source": [
        "config = PeftConfig.from_pretrained('/content/models/demo/THUDM/chatglm3-6b')\n",
        "q_config = BitsAndBytesConfig(load_in_4bit=True,\n",
        "                              bnb_4bit_quant_type='nf4',\n",
        "                              bnb_4bit_use_double_quant=True,\n",
        "                              bnb_4bit_compute_dtype=torch.float32)\n",
        "\n",
        "base_model = AutoModel.from_pretrained(config.base_model_name_or_path,\n",
        "                                        quantization_config=q_config,\n",
        "                                        trust_remote_code=True,\n",
        "                                        device_map='auto')"
      ],
      "metadata": {
        "id": "J5DBZ0cUYqJL",
        "outputId": "9fbefd8a-293e-421e-9eba-e7008be3d429",
        "colab": {
          "base_uri": "https://localhost:8080/",
          "height": 49,
          "referenced_widgets": [
            "4e72396a5ad74a82b2afab6d7bed8243",
            "f53d2125263b47409602bdaa3ca6b160",
            "f18681f170374f00b7da3ec26c13581f",
            "adcd1c4376124e90b074042d3eaf47cd",
            "c29b096c01474c16af2991462a5db22a",
            "843f67e47b984078b0b9283452620bea",
            "f44257c4a934496e8a3d3741b6483f20",
            "a4fa121db22b4cd89933079608646eda",
            "6be65b31361f492e8435ea601d7020ec",
            "0c3d5911739d4fa49aeafa222fc2bba8",
            "c1cc529da6dd4fc4919d9c8e8fafb1f2"
          ]
        }
      },
      "id": "J5DBZ0cUYqJL",
      "execution_count": null,
      "outputs": [
        {
          "output_type": "display_data",
          "data": {
            "text/plain": [
              "Loading checkpoint shards:   0%|          | 0/7 [00:00<?, ?it/s]"
            ],
            "application/vnd.jupyter.widget-view+json": {
              "version_major": 2,
              "version_minor": 0,
              "model_id": "4e72396a5ad74a82b2afab6d7bed8243"
            }
          },
          "metadata": {}
        }
      ]
    },
    {
      "cell_type": "code",
      "source": [
        "response, history = base_model.chat(tokenizer=tokenizer, query=input_text)\n",
        "print(f'ChatGLM3-6B 微调前: \\n{response}')"
      ],
      "metadata": {
        "id": "tSx376G-YfUu",
        "outputId": "21ebe143-9b46-42a6-c5d3-a97faac52b77",
        "colab": {
          "base_uri": "https://localhost:8080/"
        }
      },
      "id": "tSx376G-YfUu",
      "execution_count": null,
      "outputs": [
        {
          "output_type": "stream",
          "name": "stderr",
          "text": [
            "/usr/local/lib/python3.10/dist-packages/bitsandbytes/nn/modules.py:435: UserWarning: Input type into Linear4bit is torch.float16, but bnb_4bit_compute_dtype=torch.float32 (default). This will lead to slow inference or training speed.\n",
            "  warnings.warn(\n"
          ]
        },
        {
          "output_type": "stream",
          "name": "stdout",
          "text": [
            "ChatGLM3-6B 微调前: \n",
            "这款连衣裙以简约风格为主，搭配上印花图案和撞色设计，给人一种文艺清新的感觉。版型上，压褶设计让裙摆更加飘逸，而裙领型的圆领则为整体增加了一些优雅的氛围。不过，这款连衣裙的下摆设计为裙下摆，可能会对身材有些要求，对于身材较为瘦弱的女性来说，可能不太友好。\n"
          ]
        }
      ]
    },
    {
      "cell_type": "code",
      "source": [
        "response, history = base_model.chat(tokenizer=tokenizer, query=input_text)\n",
        "print(f'微调前：\\n{response}')\n",
        "\n",
        "model = PeftModel.from_pretrained(base_model, '/content/models/demo/THUDM/chatglm3-6b')\n",
        "response, history = model.chat(tokenizer=tokenizer, query=input_text)\n",
        "print(f'微调后: \\n{response}')\n"
      ],
      "metadata": {
        "id": "EajfN1v5YkDc",
        "outputId": "d53bae9e-c280-4f65-9101-6bcbc0c49f2d",
        "colab": {
          "base_uri": "https://localhost:8080/"
        }
      },
      "id": "EajfN1v5YkDc",
      "execution_count": null,
      "outputs": [
        {
          "output_type": "stream",
          "name": "stdout",
          "text": [
            "微调前：\n",
            "1. 文艺风格简约印花连衣裙，搭配撞色裙下摆，压褶设计让裙摆更加飘逸，圆领显得优雅。\n",
            "\n",
            "2. 显瘦版型连衣裙，裙身印花图案丰富多彩，简约风格设计，撞色裙下摆增加视觉亮点，压褶设计让裙摆更加飘逸。\n",
            "\n",
            "3. 文艺风格连衣裙，简约图案装饰，圆领设计显得优雅，裙下摆采用撞色设计，增加视觉冲击力，压褶设计让裙摆更加飘逸。\n",
            "\n",
            "4. 显瘦版型连衣裙，裙身印花图案丰富多彩，简约风格设计，撞色裙下摆增加视觉亮点，压褶设计让裙摆更加飘逸。\n",
            "\n",
            "5. 文艺风格连衣裙，简约图案装饰，圆领设计显得优雅，裙下摆采用撞色设计，增加视觉冲击力，压褶设计让裙摆更加飘逸。\n",
            "\n",
            "6. 显瘦版型连衣裙，裙身印花图案丰富多彩，简约风格设计，撞色裙下摆增加视觉亮点，压褶设计让裙摆更加飘逸。\n",
            "\n",
            "7. 文艺风格连衣裙，简约图案装饰，圆领设计显得优雅，裙下摆采用撞色设计，增加视觉冲击力，压褶设计让裙摆更加飘逸。\n",
            "\n",
            "8. 显瘦版型连衣裙，裙身印花图案丰富多彩，简约风格设计，撞色裙下摆增加视觉亮点，压褶设计让裙摆更加飘逸。\n",
            "\n",
            "9. 文艺风格连衣裙，简约图案装饰，圆领设计显得优雅，裙下摆采用撞色设计，增加视觉冲击力，压褶设计让裙摆更加飘逸。\n",
            "\n",
            "10. 显瘦版型连衣裙，裙身印花图案丰富多彩，简约风格设计，撞色裙下摆增加视觉亮点，压褶设计让裙摆更加飘逸。\n",
            "微调后: \n",
            "简约的圆领设计，凸显出修长的颈部线条，修饰脸型。袖口和领口的设计，采用了褶皱的设计，修饰手臂线条，显瘦显高。袖子采用了撞色的印花图案，增添时尚感，增加设计感。裙身采用了褶皱的压褶设计，修饰腰身，增加层次感，凸显出文艺气息。\n"
          ]
        }
      ]
    },
    {
      "cell_type": "code",
      "source": [],
      "metadata": {
        "id": "b8c-dbjXY-tA"
      },
      "id": "b8c-dbjXY-tA",
      "execution_count": null,
      "outputs": []
    }
  ],
  "metadata": {
    "kernelspec": {
      "display_name": "Python 3",
      "name": "python3"
    },
    "language_info": {
      "codemirror_mode": {
        "name": "ipython",
        "version": 3
      },
      "file_extension": ".py",
      "mimetype": "text/x-python",
      "name": "python",
      "nbconvert_exporter": "python",
      "pygments_lexer": "ipython3",
      "version": "3.11.5"
    },
    "colab": {
      "provenance": [],
      "gpuType": "L4"
    },
    "accelerator": "GPU",
    "widgets": {
      "application/vnd.jupyter.widget-state+json": {
        "f5c94417bae84a96b0f1486c47598577": {
          "model_module": "@jupyter-widgets/controls",
          "model_name": "HBoxModel",
          "model_module_version": "1.5.0",
          "state": {
            "_dom_classes": [],
            "_model_module": "@jupyter-widgets/controls",
            "_model_module_version": "1.5.0",
            "_model_name": "HBoxModel",
            "_view_count": null,
            "_view_module": "@jupyter-widgets/controls",
            "_view_module_version": "1.5.0",
            "_view_name": "HBoxView",
            "box_style": "",
            "children": [
              "IPY_MODEL_ef04da7007e04f7e8dbe4d5423db2c2c",
              "IPY_MODEL_97af0847d1994a84a9c3022015ee8d5c",
              "IPY_MODEL_be2aa7af389149608691260713b1bf50"
            ],
            "layout": "IPY_MODEL_8f2c8d781d3b47bbb0a66684c26d79ca"
          }
        },
        "ef04da7007e04f7e8dbe4d5423db2c2c": {
          "model_module": "@jupyter-widgets/controls",
          "model_name": "HTMLModel",
          "model_module_version": "1.5.0",
          "state": {
            "_dom_classes": [],
            "_model_module": "@jupyter-widgets/controls",
            "_model_module_version": "1.5.0",
            "_model_name": "HTMLModel",
            "_view_count": null,
            "_view_module": "@jupyter-widgets/controls",
            "_view_module_version": "1.5.0",
            "_view_name": "HTMLView",
            "description": "",
            "description_tooltip": null,
            "layout": "IPY_MODEL_41bf170e3de543108c9325225deecae5",
            "placeholder": "​",
            "style": "IPY_MODEL_ac6723023b6f453e8fb4d13e7df6d78a",
            "value": "Map: 100%"
          }
        },
        "97af0847d1994a84a9c3022015ee8d5c": {
          "model_module": "@jupyter-widgets/controls",
          "model_name": "FloatProgressModel",
          "model_module_version": "1.5.0",
          "state": {
            "_dom_classes": [],
            "_model_module": "@jupyter-widgets/controls",
            "_model_module_version": "1.5.0",
            "_model_name": "FloatProgressModel",
            "_view_count": null,
            "_view_module": "@jupyter-widgets/controls",
            "_view_module_version": "1.5.0",
            "_view_name": "ProgressView",
            "bar_style": "success",
            "description": "",
            "description_tooltip": null,
            "layout": "IPY_MODEL_ba6bbf06c7114da6a2c20d75a4d32e06",
            "max": 114599,
            "min": 0,
            "orientation": "horizontal",
            "style": "IPY_MODEL_f863e430bdc34d9fb86ef4816fd9b8fa",
            "value": 114599
          }
        },
        "be2aa7af389149608691260713b1bf50": {
          "model_module": "@jupyter-widgets/controls",
          "model_name": "HTMLModel",
          "model_module_version": "1.5.0",
          "state": {
            "_dom_classes": [],
            "_model_module": "@jupyter-widgets/controls",
            "_model_module_version": "1.5.0",
            "_model_name": "HTMLModel",
            "_view_count": null,
            "_view_module": "@jupyter-widgets/controls",
            "_view_module_version": "1.5.0",
            "_view_name": "HTMLView",
            "description": "",
            "description_tooltip": null,
            "layout": "IPY_MODEL_1ad9beec82a24703a465bc7f0c4473a0",
            "placeholder": "​",
            "style": "IPY_MODEL_c0dc462ba4a94e73a9bd5b1fdb38c5e1",
            "value": " 114599/114599 [01:19&lt;00:00, 1551.41 examples/s]"
          }
        },
        "8f2c8d781d3b47bbb0a66684c26d79ca": {
          "model_module": "@jupyter-widgets/base",
          "model_name": "LayoutModel",
          "model_module_version": "1.2.0",
          "state": {
            "_model_module": "@jupyter-widgets/base",
            "_model_module_version": "1.2.0",
            "_model_name": "LayoutModel",
            "_view_count": null,
            "_view_module": "@jupyter-widgets/base",
            "_view_module_version": "1.2.0",
            "_view_name": "LayoutView",
            "align_content": null,
            "align_items": null,
            "align_self": null,
            "border": null,
            "bottom": null,
            "display": null,
            "flex": null,
            "flex_flow": null,
            "grid_area": null,
            "grid_auto_columns": null,
            "grid_auto_flow": null,
            "grid_auto_rows": null,
            "grid_column": null,
            "grid_gap": null,
            "grid_row": null,
            "grid_template_areas": null,
            "grid_template_columns": null,
            "grid_template_rows": null,
            "height": null,
            "justify_content": null,
            "justify_items": null,
            "left": null,
            "margin": null,
            "max_height": null,
            "max_width": null,
            "min_height": null,
            "min_width": null,
            "object_fit": null,
            "object_position": null,
            "order": null,
            "overflow": null,
            "overflow_x": null,
            "overflow_y": null,
            "padding": null,
            "right": null,
            "top": null,
            "visibility": null,
            "width": null
          }
        },
        "41bf170e3de543108c9325225deecae5": {
          "model_module": "@jupyter-widgets/base",
          "model_name": "LayoutModel",
          "model_module_version": "1.2.0",
          "state": {
            "_model_module": "@jupyter-widgets/base",
            "_model_module_version": "1.2.0",
            "_model_name": "LayoutModel",
            "_view_count": null,
            "_view_module": "@jupyter-widgets/base",
            "_view_module_version": "1.2.0",
            "_view_name": "LayoutView",
            "align_content": null,
            "align_items": null,
            "align_self": null,
            "border": null,
            "bottom": null,
            "display": null,
            "flex": null,
            "flex_flow": null,
            "grid_area": null,
            "grid_auto_columns": null,
            "grid_auto_flow": null,
            "grid_auto_rows": null,
            "grid_column": null,
            "grid_gap": null,
            "grid_row": null,
            "grid_template_areas": null,
            "grid_template_columns": null,
            "grid_template_rows": null,
            "height": null,
            "justify_content": null,
            "justify_items": null,
            "left": null,
            "margin": null,
            "max_height": null,
            "max_width": null,
            "min_height": null,
            "min_width": null,
            "object_fit": null,
            "object_position": null,
            "order": null,
            "overflow": null,
            "overflow_x": null,
            "overflow_y": null,
            "padding": null,
            "right": null,
            "top": null,
            "visibility": null,
            "width": null
          }
        },
        "ac6723023b6f453e8fb4d13e7df6d78a": {
          "model_module": "@jupyter-widgets/controls",
          "model_name": "DescriptionStyleModel",
          "model_module_version": "1.5.0",
          "state": {
            "_model_module": "@jupyter-widgets/controls",
            "_model_module_version": "1.5.0",
            "_model_name": "DescriptionStyleModel",
            "_view_count": null,
            "_view_module": "@jupyter-widgets/base",
            "_view_module_version": "1.2.0",
            "_view_name": "StyleView",
            "description_width": ""
          }
        },
        "ba6bbf06c7114da6a2c20d75a4d32e06": {
          "model_module": "@jupyter-widgets/base",
          "model_name": "LayoutModel",
          "model_module_version": "1.2.0",
          "state": {
            "_model_module": "@jupyter-widgets/base",
            "_model_module_version": "1.2.0",
            "_model_name": "LayoutModel",
            "_view_count": null,
            "_view_module": "@jupyter-widgets/base",
            "_view_module_version": "1.2.0",
            "_view_name": "LayoutView",
            "align_content": null,
            "align_items": null,
            "align_self": null,
            "border": null,
            "bottom": null,
            "display": null,
            "flex": null,
            "flex_flow": null,
            "grid_area": null,
            "grid_auto_columns": null,
            "grid_auto_flow": null,
            "grid_auto_rows": null,
            "grid_column": null,
            "grid_gap": null,
            "grid_row": null,
            "grid_template_areas": null,
            "grid_template_columns": null,
            "grid_template_rows": null,
            "height": null,
            "justify_content": null,
            "justify_items": null,
            "left": null,
            "margin": null,
            "max_height": null,
            "max_width": null,
            "min_height": null,
            "min_width": null,
            "object_fit": null,
            "object_position": null,
            "order": null,
            "overflow": null,
            "overflow_x": null,
            "overflow_y": null,
            "padding": null,
            "right": null,
            "top": null,
            "visibility": null,
            "width": null
          }
        },
        "f863e430bdc34d9fb86ef4816fd9b8fa": {
          "model_module": "@jupyter-widgets/controls",
          "model_name": "ProgressStyleModel",
          "model_module_version": "1.5.0",
          "state": {
            "_model_module": "@jupyter-widgets/controls",
            "_model_module_version": "1.5.0",
            "_model_name": "ProgressStyleModel",
            "_view_count": null,
            "_view_module": "@jupyter-widgets/base",
            "_view_module_version": "1.2.0",
            "_view_name": "StyleView",
            "bar_color": null,
            "description_width": ""
          }
        },
        "1ad9beec82a24703a465bc7f0c4473a0": {
          "model_module": "@jupyter-widgets/base",
          "model_name": "LayoutModel",
          "model_module_version": "1.2.0",
          "state": {
            "_model_module": "@jupyter-widgets/base",
            "_model_module_version": "1.2.0",
            "_model_name": "LayoutModel",
            "_view_count": null,
            "_view_module": "@jupyter-widgets/base",
            "_view_module_version": "1.2.0",
            "_view_name": "LayoutView",
            "align_content": null,
            "align_items": null,
            "align_self": null,
            "border": null,
            "bottom": null,
            "display": null,
            "flex": null,
            "flex_flow": null,
            "grid_area": null,
            "grid_auto_columns": null,
            "grid_auto_flow": null,
            "grid_auto_rows": null,
            "grid_column": null,
            "grid_gap": null,
            "grid_row": null,
            "grid_template_areas": null,
            "grid_template_columns": null,
            "grid_template_rows": null,
            "height": null,
            "justify_content": null,
            "justify_items": null,
            "left": null,
            "margin": null,
            "max_height": null,
            "max_width": null,
            "min_height": null,
            "min_width": null,
            "object_fit": null,
            "object_position": null,
            "order": null,
            "overflow": null,
            "overflow_x": null,
            "overflow_y": null,
            "padding": null,
            "right": null,
            "top": null,
            "visibility": null,
            "width": null
          }
        },
        "c0dc462ba4a94e73a9bd5b1fdb38c5e1": {
          "model_module": "@jupyter-widgets/controls",
          "model_name": "DescriptionStyleModel",
          "model_module_version": "1.5.0",
          "state": {
            "_model_module": "@jupyter-widgets/controls",
            "_model_module_version": "1.5.0",
            "_model_name": "DescriptionStyleModel",
            "_view_count": null,
            "_view_module": "@jupyter-widgets/base",
            "_view_module_version": "1.2.0",
            "_view_name": "StyleView",
            "description_width": ""
          }
        },
        "414f9444d2d640f4ab722e6aa744e669": {
          "model_module": "@jupyter-widgets/controls",
          "model_name": "HBoxModel",
          "model_module_version": "1.5.0",
          "state": {
            "_dom_classes": [],
            "_model_module": "@jupyter-widgets/controls",
            "_model_module_version": "1.5.0",
            "_model_name": "HBoxModel",
            "_view_count": null,
            "_view_module": "@jupyter-widgets/controls",
            "_view_module_version": "1.5.0",
            "_view_name": "HBoxView",
            "box_style": "",
            "children": [
              "IPY_MODEL_1bb755c66fb04322b36f11f9c2e0b7b1",
              "IPY_MODEL_f6e7d4c9d7054c458f092623f283fe4a",
              "IPY_MODEL_64fc353898784aa1bf8f388bcd5b432a"
            ],
            "layout": "IPY_MODEL_c85b99733eb14b16aad67f518ba6b77d"
          }
        },
        "1bb755c66fb04322b36f11f9c2e0b7b1": {
          "model_module": "@jupyter-widgets/controls",
          "model_name": "HTMLModel",
          "model_module_version": "1.5.0",
          "state": {
            "_dom_classes": [],
            "_model_module": "@jupyter-widgets/controls",
            "_model_module_version": "1.5.0",
            "_model_name": "HTMLModel",
            "_view_count": null,
            "_view_module": "@jupyter-widgets/controls",
            "_view_module_version": "1.5.0",
            "_view_name": "HTMLView",
            "description": "",
            "description_tooltip": null,
            "layout": "IPY_MODEL_c69a221a9ead4b8db1d26b65fe713524",
            "placeholder": "​",
            "style": "IPY_MODEL_45a5f884c003402f82098b4f83df3525",
            "value": "Flattening the indices: 100%"
          }
        },
        "f6e7d4c9d7054c458f092623f283fe4a": {
          "model_module": "@jupyter-widgets/controls",
          "model_name": "FloatProgressModel",
          "model_module_version": "1.5.0",
          "state": {
            "_dom_classes": [],
            "_model_module": "@jupyter-widgets/controls",
            "_model_module_version": "1.5.0",
            "_model_name": "FloatProgressModel",
            "_view_count": null,
            "_view_module": "@jupyter-widgets/controls",
            "_view_module_version": "1.5.0",
            "_view_name": "ProgressView",
            "bar_style": "success",
            "description": "",
            "description_tooltip": null,
            "layout": "IPY_MODEL_0c7329b75e5a4a44977eabc2182e6cea",
            "max": 10000,
            "min": 0,
            "orientation": "horizontal",
            "style": "IPY_MODEL_3b96e345e814425fbd1bda10176fc9ee",
            "value": 10000
          }
        },
        "64fc353898784aa1bf8f388bcd5b432a": {
          "model_module": "@jupyter-widgets/controls",
          "model_name": "HTMLModel",
          "model_module_version": "1.5.0",
          "state": {
            "_dom_classes": [],
            "_model_module": "@jupyter-widgets/controls",
            "_model_module_version": "1.5.0",
            "_model_name": "HTMLModel",
            "_view_count": null,
            "_view_module": "@jupyter-widgets/controls",
            "_view_module_version": "1.5.0",
            "_view_name": "HTMLView",
            "description": "",
            "description_tooltip": null,
            "layout": "IPY_MODEL_aa519cc302e64d3b8a88b87abd9d6cdf",
            "placeholder": "​",
            "style": "IPY_MODEL_177ce59cdde7414f996e668197709673",
            "value": " 10000/10000 [00:00&lt;00:00, 32265.23 examples/s]"
          }
        },
        "c85b99733eb14b16aad67f518ba6b77d": {
          "model_module": "@jupyter-widgets/base",
          "model_name": "LayoutModel",
          "model_module_version": "1.2.0",
          "state": {
            "_model_module": "@jupyter-widgets/base",
            "_model_module_version": "1.2.0",
            "_model_name": "LayoutModel",
            "_view_count": null,
            "_view_module": "@jupyter-widgets/base",
            "_view_module_version": "1.2.0",
            "_view_name": "LayoutView",
            "align_content": null,
            "align_items": null,
            "align_self": null,
            "border": null,
            "bottom": null,
            "display": null,
            "flex": null,
            "flex_flow": null,
            "grid_area": null,
            "grid_auto_columns": null,
            "grid_auto_flow": null,
            "grid_auto_rows": null,
            "grid_column": null,
            "grid_gap": null,
            "grid_row": null,
            "grid_template_areas": null,
            "grid_template_columns": null,
            "grid_template_rows": null,
            "height": null,
            "justify_content": null,
            "justify_items": null,
            "left": null,
            "margin": null,
            "max_height": null,
            "max_width": null,
            "min_height": null,
            "min_width": null,
            "object_fit": null,
            "object_position": null,
            "order": null,
            "overflow": null,
            "overflow_x": null,
            "overflow_y": null,
            "padding": null,
            "right": null,
            "top": null,
            "visibility": null,
            "width": null
          }
        },
        "c69a221a9ead4b8db1d26b65fe713524": {
          "model_module": "@jupyter-widgets/base",
          "model_name": "LayoutModel",
          "model_module_version": "1.2.0",
          "state": {
            "_model_module": "@jupyter-widgets/base",
            "_model_module_version": "1.2.0",
            "_model_name": "LayoutModel",
            "_view_count": null,
            "_view_module": "@jupyter-widgets/base",
            "_view_module_version": "1.2.0",
            "_view_name": "LayoutView",
            "align_content": null,
            "align_items": null,
            "align_self": null,
            "border": null,
            "bottom": null,
            "display": null,
            "flex": null,
            "flex_flow": null,
            "grid_area": null,
            "grid_auto_columns": null,
            "grid_auto_flow": null,
            "grid_auto_rows": null,
            "grid_column": null,
            "grid_gap": null,
            "grid_row": null,
            "grid_template_areas": null,
            "grid_template_columns": null,
            "grid_template_rows": null,
            "height": null,
            "justify_content": null,
            "justify_items": null,
            "left": null,
            "margin": null,
            "max_height": null,
            "max_width": null,
            "min_height": null,
            "min_width": null,
            "object_fit": null,
            "object_position": null,
            "order": null,
            "overflow": null,
            "overflow_x": null,
            "overflow_y": null,
            "padding": null,
            "right": null,
            "top": null,
            "visibility": null,
            "width": null
          }
        },
        "45a5f884c003402f82098b4f83df3525": {
          "model_module": "@jupyter-widgets/controls",
          "model_name": "DescriptionStyleModel",
          "model_module_version": "1.5.0",
          "state": {
            "_model_module": "@jupyter-widgets/controls",
            "_model_module_version": "1.5.0",
            "_model_name": "DescriptionStyleModel",
            "_view_count": null,
            "_view_module": "@jupyter-widgets/base",
            "_view_module_version": "1.2.0",
            "_view_name": "StyleView",
            "description_width": ""
          }
        },
        "0c7329b75e5a4a44977eabc2182e6cea": {
          "model_module": "@jupyter-widgets/base",
          "model_name": "LayoutModel",
          "model_module_version": "1.2.0",
          "state": {
            "_model_module": "@jupyter-widgets/base",
            "_model_module_version": "1.2.0",
            "_model_name": "LayoutModel",
            "_view_count": null,
            "_view_module": "@jupyter-widgets/base",
            "_view_module_version": "1.2.0",
            "_view_name": "LayoutView",
            "align_content": null,
            "align_items": null,
            "align_self": null,
            "border": null,
            "bottom": null,
            "display": null,
            "flex": null,
            "flex_flow": null,
            "grid_area": null,
            "grid_auto_columns": null,
            "grid_auto_flow": null,
            "grid_auto_rows": null,
            "grid_column": null,
            "grid_gap": null,
            "grid_row": null,
            "grid_template_areas": null,
            "grid_template_columns": null,
            "grid_template_rows": null,
            "height": null,
            "justify_content": null,
            "justify_items": null,
            "left": null,
            "margin": null,
            "max_height": null,
            "max_width": null,
            "min_height": null,
            "min_width": null,
            "object_fit": null,
            "object_position": null,
            "order": null,
            "overflow": null,
            "overflow_x": null,
            "overflow_y": null,
            "padding": null,
            "right": null,
            "top": null,
            "visibility": null,
            "width": null
          }
        },
        "3b96e345e814425fbd1bda10176fc9ee": {
          "model_module": "@jupyter-widgets/controls",
          "model_name": "ProgressStyleModel",
          "model_module_version": "1.5.0",
          "state": {
            "_model_module": "@jupyter-widgets/controls",
            "_model_module_version": "1.5.0",
            "_model_name": "ProgressStyleModel",
            "_view_count": null,
            "_view_module": "@jupyter-widgets/base",
            "_view_module_version": "1.2.0",
            "_view_name": "StyleView",
            "bar_color": null,
            "description_width": ""
          }
        },
        "aa519cc302e64d3b8a88b87abd9d6cdf": {
          "model_module": "@jupyter-widgets/base",
          "model_name": "LayoutModel",
          "model_module_version": "1.2.0",
          "state": {
            "_model_module": "@jupyter-widgets/base",
            "_model_module_version": "1.2.0",
            "_model_name": "LayoutModel",
            "_view_count": null,
            "_view_module": "@jupyter-widgets/base",
            "_view_module_version": "1.2.0",
            "_view_name": "LayoutView",
            "align_content": null,
            "align_items": null,
            "align_self": null,
            "border": null,
            "bottom": null,
            "display": null,
            "flex": null,
            "flex_flow": null,
            "grid_area": null,
            "grid_auto_columns": null,
            "grid_auto_flow": null,
            "grid_auto_rows": null,
            "grid_column": null,
            "grid_gap": null,
            "grid_row": null,
            "grid_template_areas": null,
            "grid_template_columns": null,
            "grid_template_rows": null,
            "height": null,
            "justify_content": null,
            "justify_items": null,
            "left": null,
            "margin": null,
            "max_height": null,
            "max_width": null,
            "min_height": null,
            "min_width": null,
            "object_fit": null,
            "object_position": null,
            "order": null,
            "overflow": null,
            "overflow_x": null,
            "overflow_y": null,
            "padding": null,
            "right": null,
            "top": null,
            "visibility": null,
            "width": null
          }
        },
        "177ce59cdde7414f996e668197709673": {
          "model_module": "@jupyter-widgets/controls",
          "model_name": "DescriptionStyleModel",
          "model_module_version": "1.5.0",
          "state": {
            "_model_module": "@jupyter-widgets/controls",
            "_model_module_version": "1.5.0",
            "_model_name": "DescriptionStyleModel",
            "_view_count": null,
            "_view_module": "@jupyter-widgets/base",
            "_view_module_version": "1.2.0",
            "_view_name": "StyleView",
            "description_width": ""
          }
        },
        "33f8dd7f1995450ea6dc38f36e1a225f": {
          "model_module": "@jupyter-widgets/controls",
          "model_name": "HBoxModel",
          "model_module_version": "1.5.0",
          "state": {
            "_dom_classes": [],
            "_model_module": "@jupyter-widgets/controls",
            "_model_module_version": "1.5.0",
            "_model_name": "HBoxModel",
            "_view_count": null,
            "_view_module": "@jupyter-widgets/controls",
            "_view_module_version": "1.5.0",
            "_view_name": "HBoxView",
            "box_style": "",
            "children": [
              "IPY_MODEL_0761c616a0b848cabeb5c463ccf7d4b1",
              "IPY_MODEL_811670398bf34be7a11ae094862bd95a",
              "IPY_MODEL_29a433022e24437f9a2d0be11d62cf44"
            ],
            "layout": "IPY_MODEL_eeaad5ad7f11490bbeefa8780809313a"
          }
        },
        "0761c616a0b848cabeb5c463ccf7d4b1": {
          "model_module": "@jupyter-widgets/controls",
          "model_name": "HTMLModel",
          "model_module_version": "1.5.0",
          "state": {
            "_dom_classes": [],
            "_model_module": "@jupyter-widgets/controls",
            "_model_module_version": "1.5.0",
            "_model_name": "HTMLModel",
            "_view_count": null,
            "_view_module": "@jupyter-widgets/controls",
            "_view_module_version": "1.5.0",
            "_view_name": "HTMLView",
            "description": "",
            "description_tooltip": null,
            "layout": "IPY_MODEL_2e1cb129967040cb9c0a6b4b02aec68f",
            "placeholder": "​",
            "style": "IPY_MODEL_fca800dd45b541b9ad82e7e33d0da793",
            "value": "Loading checkpoint shards: 100%"
          }
        },
        "811670398bf34be7a11ae094862bd95a": {
          "model_module": "@jupyter-widgets/controls",
          "model_name": "FloatProgressModel",
          "model_module_version": "1.5.0",
          "state": {
            "_dom_classes": [],
            "_model_module": "@jupyter-widgets/controls",
            "_model_module_version": "1.5.0",
            "_model_name": "FloatProgressModel",
            "_view_count": null,
            "_view_module": "@jupyter-widgets/controls",
            "_view_module_version": "1.5.0",
            "_view_name": "ProgressView",
            "bar_style": "success",
            "description": "",
            "description_tooltip": null,
            "layout": "IPY_MODEL_02d51d0ee45142e2b9ad78909b543334",
            "max": 7,
            "min": 0,
            "orientation": "horizontal",
            "style": "IPY_MODEL_52a7e8305ec54c4d8e18f72f25e31c44",
            "value": 7
          }
        },
        "29a433022e24437f9a2d0be11d62cf44": {
          "model_module": "@jupyter-widgets/controls",
          "model_name": "HTMLModel",
          "model_module_version": "1.5.0",
          "state": {
            "_dom_classes": [],
            "_model_module": "@jupyter-widgets/controls",
            "_model_module_version": "1.5.0",
            "_model_name": "HTMLModel",
            "_view_count": null,
            "_view_module": "@jupyter-widgets/controls",
            "_view_module_version": "1.5.0",
            "_view_name": "HTMLView",
            "description": "",
            "description_tooltip": null,
            "layout": "IPY_MODEL_191829a70ded4418a79aee0bc5ddaac8",
            "placeholder": "​",
            "style": "IPY_MODEL_640bdb9128c94ed08b35b1b6360abf75",
            "value": " 7/7 [00:05&lt;00:00,  1.37it/s]"
          }
        },
        "eeaad5ad7f11490bbeefa8780809313a": {
          "model_module": "@jupyter-widgets/base",
          "model_name": "LayoutModel",
          "model_module_version": "1.2.0",
          "state": {
            "_model_module": "@jupyter-widgets/base",
            "_model_module_version": "1.2.0",
            "_model_name": "LayoutModel",
            "_view_count": null,
            "_view_module": "@jupyter-widgets/base",
            "_view_module_version": "1.2.0",
            "_view_name": "LayoutView",
            "align_content": null,
            "align_items": null,
            "align_self": null,
            "border": null,
            "bottom": null,
            "display": null,
            "flex": null,
            "flex_flow": null,
            "grid_area": null,
            "grid_auto_columns": null,
            "grid_auto_flow": null,
            "grid_auto_rows": null,
            "grid_column": null,
            "grid_gap": null,
            "grid_row": null,
            "grid_template_areas": null,
            "grid_template_columns": null,
            "grid_template_rows": null,
            "height": null,
            "justify_content": null,
            "justify_items": null,
            "left": null,
            "margin": null,
            "max_height": null,
            "max_width": null,
            "min_height": null,
            "min_width": null,
            "object_fit": null,
            "object_position": null,
            "order": null,
            "overflow": null,
            "overflow_x": null,
            "overflow_y": null,
            "padding": null,
            "right": null,
            "top": null,
            "visibility": null,
            "width": null
          }
        },
        "2e1cb129967040cb9c0a6b4b02aec68f": {
          "model_module": "@jupyter-widgets/base",
          "model_name": "LayoutModel",
          "model_module_version": "1.2.0",
          "state": {
            "_model_module": "@jupyter-widgets/base",
            "_model_module_version": "1.2.0",
            "_model_name": "LayoutModel",
            "_view_count": null,
            "_view_module": "@jupyter-widgets/base",
            "_view_module_version": "1.2.0",
            "_view_name": "LayoutView",
            "align_content": null,
            "align_items": null,
            "align_self": null,
            "border": null,
            "bottom": null,
            "display": null,
            "flex": null,
            "flex_flow": null,
            "grid_area": null,
            "grid_auto_columns": null,
            "grid_auto_flow": null,
            "grid_auto_rows": null,
            "grid_column": null,
            "grid_gap": null,
            "grid_row": null,
            "grid_template_areas": null,
            "grid_template_columns": null,
            "grid_template_rows": null,
            "height": null,
            "justify_content": null,
            "justify_items": null,
            "left": null,
            "margin": null,
            "max_height": null,
            "max_width": null,
            "min_height": null,
            "min_width": null,
            "object_fit": null,
            "object_position": null,
            "order": null,
            "overflow": null,
            "overflow_x": null,
            "overflow_y": null,
            "padding": null,
            "right": null,
            "top": null,
            "visibility": null,
            "width": null
          }
        },
        "fca800dd45b541b9ad82e7e33d0da793": {
          "model_module": "@jupyter-widgets/controls",
          "model_name": "DescriptionStyleModel",
          "model_module_version": "1.5.0",
          "state": {
            "_model_module": "@jupyter-widgets/controls",
            "_model_module_version": "1.5.0",
            "_model_name": "DescriptionStyleModel",
            "_view_count": null,
            "_view_module": "@jupyter-widgets/base",
            "_view_module_version": "1.2.0",
            "_view_name": "StyleView",
            "description_width": ""
          }
        },
        "02d51d0ee45142e2b9ad78909b543334": {
          "model_module": "@jupyter-widgets/base",
          "model_name": "LayoutModel",
          "model_module_version": "1.2.0",
          "state": {
            "_model_module": "@jupyter-widgets/base",
            "_model_module_version": "1.2.0",
            "_model_name": "LayoutModel",
            "_view_count": null,
            "_view_module": "@jupyter-widgets/base",
            "_view_module_version": "1.2.0",
            "_view_name": "LayoutView",
            "align_content": null,
            "align_items": null,
            "align_self": null,
            "border": null,
            "bottom": null,
            "display": null,
            "flex": null,
            "flex_flow": null,
            "grid_area": null,
            "grid_auto_columns": null,
            "grid_auto_flow": null,
            "grid_auto_rows": null,
            "grid_column": null,
            "grid_gap": null,
            "grid_row": null,
            "grid_template_areas": null,
            "grid_template_columns": null,
            "grid_template_rows": null,
            "height": null,
            "justify_content": null,
            "justify_items": null,
            "left": null,
            "margin": null,
            "max_height": null,
            "max_width": null,
            "min_height": null,
            "min_width": null,
            "object_fit": null,
            "object_position": null,
            "order": null,
            "overflow": null,
            "overflow_x": null,
            "overflow_y": null,
            "padding": null,
            "right": null,
            "top": null,
            "visibility": null,
            "width": null
          }
        },
        "52a7e8305ec54c4d8e18f72f25e31c44": {
          "model_module": "@jupyter-widgets/controls",
          "model_name": "ProgressStyleModel",
          "model_module_version": "1.5.0",
          "state": {
            "_model_module": "@jupyter-widgets/controls",
            "_model_module_version": "1.5.0",
            "_model_name": "ProgressStyleModel",
            "_view_count": null,
            "_view_module": "@jupyter-widgets/base",
            "_view_module_version": "1.2.0",
            "_view_name": "StyleView",
            "bar_color": null,
            "description_width": ""
          }
        },
        "191829a70ded4418a79aee0bc5ddaac8": {
          "model_module": "@jupyter-widgets/base",
          "model_name": "LayoutModel",
          "model_module_version": "1.2.0",
          "state": {
            "_model_module": "@jupyter-widgets/base",
            "_model_module_version": "1.2.0",
            "_model_name": "LayoutModel",
            "_view_count": null,
            "_view_module": "@jupyter-widgets/base",
            "_view_module_version": "1.2.0",
            "_view_name": "LayoutView",
            "align_content": null,
            "align_items": null,
            "align_self": null,
            "border": null,
            "bottom": null,
            "display": null,
            "flex": null,
            "flex_flow": null,
            "grid_area": null,
            "grid_auto_columns": null,
            "grid_auto_flow": null,
            "grid_auto_rows": null,
            "grid_column": null,
            "grid_gap": null,
            "grid_row": null,
            "grid_template_areas": null,
            "grid_template_columns": null,
            "grid_template_rows": null,
            "height": null,
            "justify_content": null,
            "justify_items": null,
            "left": null,
            "margin": null,
            "max_height": null,
            "max_width": null,
            "min_height": null,
            "min_width": null,
            "object_fit": null,
            "object_position": null,
            "order": null,
            "overflow": null,
            "overflow_x": null,
            "overflow_y": null,
            "padding": null,
            "right": null,
            "top": null,
            "visibility": null,
            "width": null
          }
        },
        "640bdb9128c94ed08b35b1b6360abf75": {
          "model_module": "@jupyter-widgets/controls",
          "model_name": "DescriptionStyleModel",
          "model_module_version": "1.5.0",
          "state": {
            "_model_module": "@jupyter-widgets/controls",
            "_model_module_version": "1.5.0",
            "_model_name": "DescriptionStyleModel",
            "_view_count": null,
            "_view_module": "@jupyter-widgets/base",
            "_view_module_version": "1.2.0",
            "_view_name": "StyleView",
            "description_width": ""
          }
        },
        "4e72396a5ad74a82b2afab6d7bed8243": {
          "model_module": "@jupyter-widgets/controls",
          "model_name": "HBoxModel",
          "model_module_version": "1.5.0",
          "state": {
            "_dom_classes": [],
            "_model_module": "@jupyter-widgets/controls",
            "_model_module_version": "1.5.0",
            "_model_name": "HBoxModel",
            "_view_count": null,
            "_view_module": "@jupyter-widgets/controls",
            "_view_module_version": "1.5.0",
            "_view_name": "HBoxView",
            "box_style": "",
            "children": [
              "IPY_MODEL_f53d2125263b47409602bdaa3ca6b160",
              "IPY_MODEL_f18681f170374f00b7da3ec26c13581f",
              "IPY_MODEL_adcd1c4376124e90b074042d3eaf47cd"
            ],
            "layout": "IPY_MODEL_c29b096c01474c16af2991462a5db22a"
          }
        },
        "f53d2125263b47409602bdaa3ca6b160": {
          "model_module": "@jupyter-widgets/controls",
          "model_name": "HTMLModel",
          "model_module_version": "1.5.0",
          "state": {
            "_dom_classes": [],
            "_model_module": "@jupyter-widgets/controls",
            "_model_module_version": "1.5.0",
            "_model_name": "HTMLModel",
            "_view_count": null,
            "_view_module": "@jupyter-widgets/controls",
            "_view_module_version": "1.5.0",
            "_view_name": "HTMLView",
            "description": "",
            "description_tooltip": null,
            "layout": "IPY_MODEL_843f67e47b984078b0b9283452620bea",
            "placeholder": "​",
            "style": "IPY_MODEL_f44257c4a934496e8a3d3741b6483f20",
            "value": "Loading checkpoint shards: 100%"
          }
        },
        "f18681f170374f00b7da3ec26c13581f": {
          "model_module": "@jupyter-widgets/controls",
          "model_name": "FloatProgressModel",
          "model_module_version": "1.5.0",
          "state": {
            "_dom_classes": [],
            "_model_module": "@jupyter-widgets/controls",
            "_model_module_version": "1.5.0",
            "_model_name": "FloatProgressModel",
            "_view_count": null,
            "_view_module": "@jupyter-widgets/controls",
            "_view_module_version": "1.5.0",
            "_view_name": "ProgressView",
            "bar_style": "success",
            "description": "",
            "description_tooltip": null,
            "layout": "IPY_MODEL_a4fa121db22b4cd89933079608646eda",
            "max": 7,
            "min": 0,
            "orientation": "horizontal",
            "style": "IPY_MODEL_6be65b31361f492e8435ea601d7020ec",
            "value": 7
          }
        },
        "adcd1c4376124e90b074042d3eaf47cd": {
          "model_module": "@jupyter-widgets/controls",
          "model_name": "HTMLModel",
          "model_module_version": "1.5.0",
          "state": {
            "_dom_classes": [],
            "_model_module": "@jupyter-widgets/controls",
            "_model_module_version": "1.5.0",
            "_model_name": "HTMLModel",
            "_view_count": null,
            "_view_module": "@jupyter-widgets/controls",
            "_view_module_version": "1.5.0",
            "_view_name": "HTMLView",
            "description": "",
            "description_tooltip": null,
            "layout": "IPY_MODEL_0c3d5911739d4fa49aeafa222fc2bba8",
            "placeholder": "​",
            "style": "IPY_MODEL_c1cc529da6dd4fc4919d9c8e8fafb1f2",
            "value": " 7/7 [00:05&lt;00:00,  1.36it/s]"
          }
        },
        "c29b096c01474c16af2991462a5db22a": {
          "model_module": "@jupyter-widgets/base",
          "model_name": "LayoutModel",
          "model_module_version": "1.2.0",
          "state": {
            "_model_module": "@jupyter-widgets/base",
            "_model_module_version": "1.2.0",
            "_model_name": "LayoutModel",
            "_view_count": null,
            "_view_module": "@jupyter-widgets/base",
            "_view_module_version": "1.2.0",
            "_view_name": "LayoutView",
            "align_content": null,
            "align_items": null,
            "align_self": null,
            "border": null,
            "bottom": null,
            "display": null,
            "flex": null,
            "flex_flow": null,
            "grid_area": null,
            "grid_auto_columns": null,
            "grid_auto_flow": null,
            "grid_auto_rows": null,
            "grid_column": null,
            "grid_gap": null,
            "grid_row": null,
            "grid_template_areas": null,
            "grid_template_columns": null,
            "grid_template_rows": null,
            "height": null,
            "justify_content": null,
            "justify_items": null,
            "left": null,
            "margin": null,
            "max_height": null,
            "max_width": null,
            "min_height": null,
            "min_width": null,
            "object_fit": null,
            "object_position": null,
            "order": null,
            "overflow": null,
            "overflow_x": null,
            "overflow_y": null,
            "padding": null,
            "right": null,
            "top": null,
            "visibility": null,
            "width": null
          }
        },
        "843f67e47b984078b0b9283452620bea": {
          "model_module": "@jupyter-widgets/base",
          "model_name": "LayoutModel",
          "model_module_version": "1.2.0",
          "state": {
            "_model_module": "@jupyter-widgets/base",
            "_model_module_version": "1.2.0",
            "_model_name": "LayoutModel",
            "_view_count": null,
            "_view_module": "@jupyter-widgets/base",
            "_view_module_version": "1.2.0",
            "_view_name": "LayoutView",
            "align_content": null,
            "align_items": null,
            "align_self": null,
            "border": null,
            "bottom": null,
            "display": null,
            "flex": null,
            "flex_flow": null,
            "grid_area": null,
            "grid_auto_columns": null,
            "grid_auto_flow": null,
            "grid_auto_rows": null,
            "grid_column": null,
            "grid_gap": null,
            "grid_row": null,
            "grid_template_areas": null,
            "grid_template_columns": null,
            "grid_template_rows": null,
            "height": null,
            "justify_content": null,
            "justify_items": null,
            "left": null,
            "margin": null,
            "max_height": null,
            "max_width": null,
            "min_height": null,
            "min_width": null,
            "object_fit": null,
            "object_position": null,
            "order": null,
            "overflow": null,
            "overflow_x": null,
            "overflow_y": null,
            "padding": null,
            "right": null,
            "top": null,
            "visibility": null,
            "width": null
          }
        },
        "f44257c4a934496e8a3d3741b6483f20": {
          "model_module": "@jupyter-widgets/controls",
          "model_name": "DescriptionStyleModel",
          "model_module_version": "1.5.0",
          "state": {
            "_model_module": "@jupyter-widgets/controls",
            "_model_module_version": "1.5.0",
            "_model_name": "DescriptionStyleModel",
            "_view_count": null,
            "_view_module": "@jupyter-widgets/base",
            "_view_module_version": "1.2.0",
            "_view_name": "StyleView",
            "description_width": ""
          }
        },
        "a4fa121db22b4cd89933079608646eda": {
          "model_module": "@jupyter-widgets/base",
          "model_name": "LayoutModel",
          "model_module_version": "1.2.0",
          "state": {
            "_model_module": "@jupyter-widgets/base",
            "_model_module_version": "1.2.0",
            "_model_name": "LayoutModel",
            "_view_count": null,
            "_view_module": "@jupyter-widgets/base",
            "_view_module_version": "1.2.0",
            "_view_name": "LayoutView",
            "align_content": null,
            "align_items": null,
            "align_self": null,
            "border": null,
            "bottom": null,
            "display": null,
            "flex": null,
            "flex_flow": null,
            "grid_area": null,
            "grid_auto_columns": null,
            "grid_auto_flow": null,
            "grid_auto_rows": null,
            "grid_column": null,
            "grid_gap": null,
            "grid_row": null,
            "grid_template_areas": null,
            "grid_template_columns": null,
            "grid_template_rows": null,
            "height": null,
            "justify_content": null,
            "justify_items": null,
            "left": null,
            "margin": null,
            "max_height": null,
            "max_width": null,
            "min_height": null,
            "min_width": null,
            "object_fit": null,
            "object_position": null,
            "order": null,
            "overflow": null,
            "overflow_x": null,
            "overflow_y": null,
            "padding": null,
            "right": null,
            "top": null,
            "visibility": null,
            "width": null
          }
        },
        "6be65b31361f492e8435ea601d7020ec": {
          "model_module": "@jupyter-widgets/controls",
          "model_name": "ProgressStyleModel",
          "model_module_version": "1.5.0",
          "state": {
            "_model_module": "@jupyter-widgets/controls",
            "_model_module_version": "1.5.0",
            "_model_name": "ProgressStyleModel",
            "_view_count": null,
            "_view_module": "@jupyter-widgets/base",
            "_view_module_version": "1.2.0",
            "_view_name": "StyleView",
            "bar_color": null,
            "description_width": ""
          }
        },
        "0c3d5911739d4fa49aeafa222fc2bba8": {
          "model_module": "@jupyter-widgets/base",
          "model_name": "LayoutModel",
          "model_module_version": "1.2.0",
          "state": {
            "_model_module": "@jupyter-widgets/base",
            "_model_module_version": "1.2.0",
            "_model_name": "LayoutModel",
            "_view_count": null,
            "_view_module": "@jupyter-widgets/base",
            "_view_module_version": "1.2.0",
            "_view_name": "LayoutView",
            "align_content": null,
            "align_items": null,
            "align_self": null,
            "border": null,
            "bottom": null,
            "display": null,
            "flex": null,
            "flex_flow": null,
            "grid_area": null,
            "grid_auto_columns": null,
            "grid_auto_flow": null,
            "grid_auto_rows": null,
            "grid_column": null,
            "grid_gap": null,
            "grid_row": null,
            "grid_template_areas": null,
            "grid_template_columns": null,
            "grid_template_rows": null,
            "height": null,
            "justify_content": null,
            "justify_items": null,
            "left": null,
            "margin": null,
            "max_height": null,
            "max_width": null,
            "min_height": null,
            "min_width": null,
            "object_fit": null,
            "object_position": null,
            "order": null,
            "overflow": null,
            "overflow_x": null,
            "overflow_y": null,
            "padding": null,
            "right": null,
            "top": null,
            "visibility": null,
            "width": null
          }
        },
        "c1cc529da6dd4fc4919d9c8e8fafb1f2": {
          "model_module": "@jupyter-widgets/controls",
          "model_name": "DescriptionStyleModel",
          "model_module_version": "1.5.0",
          "state": {
            "_model_module": "@jupyter-widgets/controls",
            "_model_module_version": "1.5.0",
            "_model_name": "DescriptionStyleModel",
            "_view_count": null,
            "_view_module": "@jupyter-widgets/base",
            "_view_module_version": "1.2.0",
            "_view_name": "StyleView",
            "description_width": ""
          }
        }
      }
    }
  },
  "nbformat": 4,
  "nbformat_minor": 5
}